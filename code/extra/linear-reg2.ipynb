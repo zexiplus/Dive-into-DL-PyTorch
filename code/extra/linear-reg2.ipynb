{
 "metadata": {
  "language_info": {
   "codemirror_mode": {
    "name": "ipython",
    "version": 3
   },
   "file_extension": ".py",
   "mimetype": "text/x-python",
   "name": "python",
   "nbconvert_exporter": "python",
   "pygments_lexer": "ipython3",
   "version": "3.6.13"
  },
  "orig_nbformat": 2,
  "kernelspec": {
   "name": "python3613jvsc74a57bd06a7cafeaeb3fd68df71f631e022add281d537fd7827e106ecab671299a698970",
   "display_name": "Python 3.6.13 64-bit ('pytorch': conda)"
  }
 },
 "nbformat": 4,
 "nbformat_minor": 2,
 "cells": [
  {
   "cell_type": "code",
   "execution_count": 25,
   "metadata": {
    "tags": []
   },
   "outputs": [
    {
     "output_type": "stream",
     "name": "stdout",
     "text": [
      "Parameter containing:\ntensor([[3.3001, 5.0998]], requires_grad=True)\nParameter containing:\ntensor([8.8996], requires_grad=True)\n"
     ]
    }
   ],
   "source": [
    "import torch\n",
    "from torch import nn\n",
    "from matplotlib import pyplot\n",
    "import numpy as np\n",
    "import random\n",
    "\n",
    "\n",
    "num_examples = 1000\n",
    "num_inputs = 2\n",
    "\n",
    "true_w = torch.tensor([3.3, 5.1])\n",
    "true_b = torch.tensor(8.9)\n",
    "\n",
    "features = torch.randn(num_examples, num_inputs)\n",
    "labels = features.mm(true_w.view(2,1)) + true_b\n",
    "noise = torch.tensor(np.random.normal(0, 0.01, size=(num_examples, 1)))\n",
    "labels += noise\n",
    "\n",
    "\n",
    "# pyplot.scatter(features[:, 0], labels, 1)\n",
    "# pyplot.scatter(features[:, 1], labels, 1)\n",
    "\n",
    "# 定义数据迭代器\n",
    "def data_iter(features, labels, num_examples, batch_size):\n",
    "    for i in range(0, num_examples, batch_size):\n",
    "        indices = list(range(num_examples))\n",
    "        random.shuffle(indices)\n",
    "        j = torch.tensor(indices[i: min(num_examples, i + batch_size)])\n",
    "        yield features.index_select(0, j), labels.index_select(0, j)\n",
    "\n",
    "batch_size = 12\n",
    "lr = 0.02\n",
    "epoch = 5\n",
    "\n",
    "# for X, y in data_iter(features, labels, num_examples, batch_size):\n",
    "#     print(X, y)\n",
    "#     break\n",
    "\n",
    "        \n",
    "net = nn.Sequential(nn.Linear(2,1))\n",
    "\n",
    "optimizer = torch.optim.SGD(net.parameters(), lr)\n",
    "\n",
    "def loss(y, y_pred, batch_size):\n",
    "    return (y - y_pred).pow(2).sum() / batch_size\n",
    "\n",
    "# 训练\n",
    "\n",
    "for e in range(epoch):\n",
    "    for X, y in data_iter(features, labels, num_examples, batch_size):\n",
    "        y_pred = net(X)\n",
    "        l = loss(y, y_pred, batch_size)\n",
    "        l.backward()\n",
    "        optimizer.step()\n",
    "        optimizer.zero_grad()\n",
    "\n",
    "print(net[0].weight)\n",
    "print(net[0].bias)\n",
    "\n",
    "\n",
    "\n",
    "\n",
    "\n"
   ]
  },
  {
   "cell_type": "code",
   "execution_count": null,
   "metadata": {},
   "outputs": [],
   "source": []
  }
 ]
}