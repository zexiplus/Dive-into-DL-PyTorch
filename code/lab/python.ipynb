{
 "metadata": {
  "language_info": {
   "codemirror_mode": {
    "name": "ipython",
    "version": 3
   },
   "file_extension": ".py",
   "mimetype": "text/x-python",
   "name": "python",
   "nbconvert_exporter": "python",
   "pygments_lexer": "ipython3",
   "version": "3.6.13"
  },
  "orig_nbformat": 4,
  "kernelspec": {
   "name": "python3",
   "display_name": "Python 3.6.13 64-bit ('pytorch': conda)"
  },
  "interpreter": {
   "hash": "6a7cafeaeb3fd68df71f631e022add281d537fd7827e106ecab671299a698970"
  }
 },
 "nbformat": 4,
 "nbformat_minor": 2,
 "cells": [
  {
   "cell_type": "code",
   "execution_count": 13,
   "metadata": {},
   "outputs": [
    {
     "output_type": "stream",
     "name": "stdout",
     "text": [
      "sound: miao\nwolf, wolf\ncolor: yellow\n"
     ]
    }
   ],
   "source": [
    "class Animal():\n",
    "    def __init__(self, color='yellow', sound='kaka'):\n",
    "        self.color = color\n",
    "        self.sound = sound\n",
    "    def makeSound(self):\n",
    "        print('sound: {}'.format(self.sound))\n",
    "    def showColor(self):\n",
    "        print('color: {}'.format(self.color))\n",
    "\n",
    "cat = Animal('yellow', 'miao')\n",
    "cat.makeSound()\n",
    "\n",
    "class Dog(Animal):\n",
    "    def __init__(self, color, sound, size, speed):\n",
    "        # super().__init__() # same as super(Dog, self).__init__()\n",
    "        super().__init__(color, sound)\n",
    "        self.size = size\n",
    "        self.speed = speed\n",
    "\n",
    "    def makeSound(slef):\n",
    "        print('wolf, wolf')\n",
    "\n",
    "dog = Dog('yellow','wolf','big', 6)\n",
    "dog.makeSound()\n",
    "dog.showColor()"
   ]
  },
  {
   "cell_type": "code",
   "execution_count": null,
   "metadata": {},
   "outputs": [],
   "source": []
  }
 ]
}