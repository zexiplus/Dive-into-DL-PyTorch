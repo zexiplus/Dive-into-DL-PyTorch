{
 "metadata": {
  "language_info": {
   "codemirror_mode": {
    "name": "ipython",
    "version": 3
   },
   "file_extension": ".py",
   "mimetype": "text/x-python",
   "name": "python",
   "nbconvert_exporter": "python",
   "pygments_lexer": "ipython3",
   "version": "3.6.13"
  },
  "orig_nbformat": 4,
  "kernelspec": {
   "name": "python3",
   "display_name": "Python 3.6.13 64-bit ('pytorch': conda)"
  },
  "interpreter": {
   "hash": "6a7cafeaeb3fd68df71f631e022add281d537fd7827e106ecab671299a698970"
  }
 },
 "nbformat": 4,
 "nbformat_minor": 2,
 "cells": [
  {
   "cell_type": "code",
   "execution_count": 9,
   "metadata": {},
   "outputs": [],
   "source": [
    "# imports\n",
    "import matplotlib.pyplot as plt\n",
    "import numpy as np\n",
    "\n",
    "import torch\n",
    "import torchvision\n",
    "import torchvision.transforms as transforms\n",
    "\n",
    "import torch.nn as nn\n",
    "import torch.nn.functional as F\n",
    "import torch.optim as optim\n",
    "\n",
    "from torch.utils.tensorboard import SummaryWriter\n",
    "\n",
    "\n",
    "# transforms\n",
    "transform = transforms.Compose(\n",
    "    [transforms.ToTensor(),\n",
    "    transforms.Normalize((0.5,), (0.5,))])\n",
    "\n",
    "# datasets\n",
    "trainset = torchvision.datasets.FashionMNIST('./datasets',\n",
    "    download=True,\n",
    "    train=True,\n",
    "    transform=transform)\n",
    "testset = torchvision.datasets.FashionMNIST('./datasets',\n",
    "    download=True,\n",
    "    train=False,\n",
    "    transform=transform)\n",
    "\n",
    "# dataloaders\n",
    "trainloader = torch.utils.data.DataLoader(trainset, batch_size=4,\n",
    "                                        shuffle=True, num_workers=2)\n",
    "\n",
    "\n",
    "testloader = torch.utils.data.DataLoader(testset, batch_size=4,\n",
    "                                        shuffle=False, num_workers=2)\n",
    "\n",
    "# constant for classes\n",
    "classes = ('T-shirt/top', 'Trouser', 'Pullover', 'Dress', 'Coat',\n",
    "        'Sandal', 'Shirt', 'Sneaker', 'Bag', 'Ankle Boot')\n",
    "\n",
    "# helper function to show an image\n",
    "# (used in the `plot_classes_preds` function below)\n",
    "def matplotlib_imshow(img, one_channel=False):\n",
    "    if one_channel:\n",
    "        img = img.mean(dim=0)\n",
    "    img = img / 2 + 0.5     # unnormalize\n",
    "    npimg = img.numpy()\n",
    "    if one_channel:\n",
    "        plt.imshow(npimg, cmap=\"Greys\")\n",
    "    else:\n",
    "        plt.imshow(np.transpose(npimg, (1, 2, 0)))\n",
    "\n",
    "\n",
    "class Net(nn.Module):\n",
    "    def __init__(self):\n",
    "        super().__init__()\n",
    "        self.conv1 = nn.Conv2d(1, 6, 5)\n",
    "        self.pool = nn.MaxPool2d(2, 2)\n",
    "        self.conv2 = nn.Conv2d(6, 16, 5)\n",
    "        self.fc1 = nn.Linear(16 * 4 * 4, 120)\n",
    "        self.fc2 = nn.Linear(120, 84)\n",
    "        self.fc3 = nn.Linear(84, 10)\n",
    "\n",
    "    def forward(self, x):\n",
    "        x = self.pool(F.relu(self.conv1(x)))\n",
    "        x = self.pool(F.relu(self.conv2(x)))\n",
    "        x = x.view(-1, 16 * 4 * 4)\n",
    "        x = F.relu(self.fc1(x))\n",
    "        x = F.relu(self.fc2(x))\n",
    "        x = self.fc3(x)\n",
    "        return x\n",
    "\n",
    "\n",
    "net = Net()\n",
    "\n",
    "criterion = nn.CrossEntropyLoss()\n",
    "optimizer = optim.SGD(net.parameters(), lr=0.001, momentum=0.9)\n"
   ]
  },
  {
   "cell_type": "code",
   "execution_count": 10,
   "metadata": {},
   "outputs": [],
   "source": [
    "writer = SummaryWriter('./data/tensorboard_logs')"
   ]
  },
  {
   "cell_type": "code",
   "execution_count": 12,
   "metadata": {},
   "outputs": [
    {
     "output_type": "stream",
     "name": "stdout",
     "text": [
      "size of images is torch.Size([4, 1, 28, 28])\n"
     ]
    },
    {
     "output_type": "display_data",
     "data": {
      "text/plain": "<Figure size 432x288 with 1 Axes>",
      "image/svg+xml": "<?xml version=\"1.0\" encoding=\"utf-8\" standalone=\"no\"?>\n<!DOCTYPE svg PUBLIC \"-//W3C//DTD SVG 1.1//EN\"\n  \"http://www.w3.org/Graphics/SVG/1.1/DTD/svg11.dtd\">\n<!-- Created with matplotlib (http://matplotlib.org/) -->\n<svg height=\"122.394518pt\" version=\"1.1\" viewBox=\"0 0 374.352357 122.394518\" width=\"374.352357pt\" xmlns=\"http://www.w3.org/2000/svg\" xmlns:xlink=\"http://www.w3.org/1999/xlink\">\n <defs>\n  <style type=\"text/css\">\n*{stroke-linecap:butt;stroke-linejoin:round;}\n  </style>\n </defs>\n <g id=\"figure_1\">\n  <g id=\"patch_1\">\n   <path d=\"M -0 122.394518 \nL 374.352357 122.394518 \nL 374.352357 0 \nL -0 0 \nz\n\" style=\"fill:none;\"/>\n  </g>\n  <g id=\"axes_1\">\n   <g id=\"patch_2\">\n    <path d=\"M 26.925 98.516393 \nL 361.725 98.516393 \nL 361.725 10.7 \nL 26.925 10.7 \nz\n\" style=\"fill:#ffffff;\"/>\n   </g>\n   <g clip-path=\"url(#p3f98c783c7)\">\n    <image height=\"88\" id=\"imagee2a6ddcbf6\" transform=\"scale(1 -1)translate(0 -88)\" width=\"335\" x=\"26.925\" xlink:href=\"data:image/png;base64,\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\" y=\"-10.516393\"/>\n   </g>\n   <g id=\"matplotlib.axis_1\">\n    <g id=\"xtick_1\">\n     <g id=\"line2d_1\">\n      <defs>\n       <path d=\"M 0 0 \nL 0 3.5 \n\" id=\"m7a89838881\" style=\"stroke:#000000;stroke-width:0.8;\"/>\n      </defs>\n      <g>\n       <use style=\"stroke:#000000;stroke-width:0.8;\" x=\"28.297131\" xlink:href=\"#m7a89838881\" y=\"98.516393\"/>\n      </g>\n     </g>\n     <g id=\"text_1\">\n      <!-- 0 -->\n      <defs>\n       <path d=\"M 31.78125 66.40625 \nQ 24.171875 66.40625 20.328125 58.90625 \nQ 16.5 51.421875 16.5 36.375 \nQ 16.5 21.390625 20.328125 13.890625 \nQ 24.171875 6.390625 31.78125 6.390625 \nQ 39.453125 6.390625 43.28125 13.890625 \nQ 47.125 21.390625 47.125 36.375 \nQ 47.125 51.421875 43.28125 58.90625 \nQ 39.453125 66.40625 31.78125 66.40625 \nz\nM 31.78125 74.21875 \nQ 44.046875 74.21875 50.515625 64.515625 \nQ 56.984375 54.828125 56.984375 36.375 \nQ 56.984375 17.96875 50.515625 8.265625 \nQ 44.046875 -1.421875 31.78125 -1.421875 \nQ 19.53125 -1.421875 13.0625 8.265625 \nQ 6.59375 17.96875 6.59375 36.375 \nQ 6.59375 54.828125 13.0625 64.515625 \nQ 19.53125 74.21875 31.78125 74.21875 \nz\n\" id=\"DejaVuSans-30\"/>\n      </defs>\n      <g transform=\"translate(25.115881 113.114831)scale(0.1 -0.1)\">\n       <use xlink:href=\"#DejaVuSans-30\"/>\n      </g>\n     </g>\n    </g>\n    <g id=\"xtick_2\">\n     <g id=\"line2d_2\">\n      <g>\n       <use style=\"stroke:#000000;stroke-width:0.8;\" x=\"83.182377\" xlink:href=\"#m7a89838881\" y=\"98.516393\"/>\n      </g>\n     </g>\n     <g id=\"text_2\">\n      <!-- 20 -->\n      <defs>\n       <path d=\"M 19.1875 8.296875 \nL 53.609375 8.296875 \nL 53.609375 0 \nL 7.328125 0 \nL 7.328125 8.296875 \nQ 12.9375 14.109375 22.625 23.890625 \nQ 32.328125 33.6875 34.8125 36.53125 \nQ 39.546875 41.84375 41.421875 45.53125 \nQ 43.3125 49.21875 43.3125 52.78125 \nQ 43.3125 58.59375 39.234375 62.25 \nQ 35.15625 65.921875 28.609375 65.921875 \nQ 23.96875 65.921875 18.8125 64.3125 \nQ 13.671875 62.703125 7.8125 59.421875 \nL 7.8125 69.390625 \nQ 13.765625 71.78125 18.9375 73 \nQ 24.125 74.21875 28.421875 74.21875 \nQ 39.75 74.21875 46.484375 68.546875 \nQ 53.21875 62.890625 53.21875 53.421875 \nQ 53.21875 48.921875 51.53125 44.890625 \nQ 49.859375 40.875 45.40625 35.40625 \nQ 44.1875 33.984375 37.640625 27.21875 \nQ 31.109375 20.453125 19.1875 8.296875 \nz\n\" id=\"DejaVuSans-32\"/>\n      </defs>\n      <g transform=\"translate(76.819877 113.114831)scale(0.1 -0.1)\">\n       <use xlink:href=\"#DejaVuSans-32\"/>\n       <use x=\"63.623047\" xlink:href=\"#DejaVuSans-30\"/>\n      </g>\n     </g>\n    </g>\n    <g id=\"xtick_3\">\n     <g id=\"line2d_3\">\n      <g>\n       <use style=\"stroke:#000000;stroke-width:0.8;\" x=\"138.067623\" xlink:href=\"#m7a89838881\" y=\"98.516393\"/>\n      </g>\n     </g>\n     <g id=\"text_3\">\n      <!-- 40 -->\n      <defs>\n       <path d=\"M 37.796875 64.3125 \nL 12.890625 25.390625 \nL 37.796875 25.390625 \nz\nM 35.203125 72.90625 \nL 47.609375 72.90625 \nL 47.609375 25.390625 \nL 58.015625 25.390625 \nL 58.015625 17.1875 \nL 47.609375 17.1875 \nL 47.609375 0 \nL 37.796875 0 \nL 37.796875 17.1875 \nL 4.890625 17.1875 \nL 4.890625 26.703125 \nz\n\" id=\"DejaVuSans-34\"/>\n      </defs>\n      <g transform=\"translate(131.705123 113.114831)scale(0.1 -0.1)\">\n       <use xlink:href=\"#DejaVuSans-34\"/>\n       <use x=\"63.623047\" xlink:href=\"#DejaVuSans-30\"/>\n      </g>\n     </g>\n    </g>\n    <g id=\"xtick_4\">\n     <g id=\"line2d_4\">\n      <g>\n       <use style=\"stroke:#000000;stroke-width:0.8;\" x=\"192.952869\" xlink:href=\"#m7a89838881\" y=\"98.516393\"/>\n      </g>\n     </g>\n     <g id=\"text_4\">\n      <!-- 60 -->\n      <defs>\n       <path d=\"M 33.015625 40.375 \nQ 26.375 40.375 22.484375 35.828125 \nQ 18.609375 31.296875 18.609375 23.390625 \nQ 18.609375 15.53125 22.484375 10.953125 \nQ 26.375 6.390625 33.015625 6.390625 \nQ 39.65625 6.390625 43.53125 10.953125 \nQ 47.40625 15.53125 47.40625 23.390625 \nQ 47.40625 31.296875 43.53125 35.828125 \nQ 39.65625 40.375 33.015625 40.375 \nz\nM 52.59375 71.296875 \nL 52.59375 62.3125 \nQ 48.875 64.0625 45.09375 64.984375 \nQ 41.3125 65.921875 37.59375 65.921875 \nQ 27.828125 65.921875 22.671875 59.328125 \nQ 17.53125 52.734375 16.796875 39.40625 \nQ 19.671875 43.65625 24.015625 45.921875 \nQ 28.375 48.1875 33.59375 48.1875 \nQ 44.578125 48.1875 50.953125 41.515625 \nQ 57.328125 34.859375 57.328125 23.390625 \nQ 57.328125 12.15625 50.6875 5.359375 \nQ 44.046875 -1.421875 33.015625 -1.421875 \nQ 20.359375 -1.421875 13.671875 8.265625 \nQ 6.984375 17.96875 6.984375 36.375 \nQ 6.984375 53.65625 15.1875 63.9375 \nQ 23.390625 74.21875 37.203125 74.21875 \nQ 40.921875 74.21875 44.703125 73.484375 \nQ 48.484375 72.75 52.59375 71.296875 \nz\n\" id=\"DejaVuSans-36\"/>\n      </defs>\n      <g transform=\"translate(186.590369 113.114831)scale(0.1 -0.1)\">\n       <use xlink:href=\"#DejaVuSans-36\"/>\n       <use x=\"63.623047\" xlink:href=\"#DejaVuSans-30\"/>\n      </g>\n     </g>\n    </g>\n    <g id=\"xtick_5\">\n     <g id=\"line2d_5\">\n      <g>\n       <use style=\"stroke:#000000;stroke-width:0.8;\" x=\"247.838115\" xlink:href=\"#m7a89838881\" y=\"98.516393\"/>\n      </g>\n     </g>\n     <g id=\"text_5\">\n      <!-- 80 -->\n      <defs>\n       <path d=\"M 31.78125 34.625 \nQ 24.75 34.625 20.71875 30.859375 \nQ 16.703125 27.09375 16.703125 20.515625 \nQ 16.703125 13.921875 20.71875 10.15625 \nQ 24.75 6.390625 31.78125 6.390625 \nQ 38.8125 6.390625 42.859375 10.171875 \nQ 46.921875 13.96875 46.921875 20.515625 \nQ 46.921875 27.09375 42.890625 30.859375 \nQ 38.875 34.625 31.78125 34.625 \nz\nM 21.921875 38.8125 \nQ 15.578125 40.375 12.03125 44.71875 \nQ 8.5 49.078125 8.5 55.328125 \nQ 8.5 64.0625 14.71875 69.140625 \nQ 20.953125 74.21875 31.78125 74.21875 \nQ 42.671875 74.21875 48.875 69.140625 \nQ 55.078125 64.0625 55.078125 55.328125 \nQ 55.078125 49.078125 51.53125 44.71875 \nQ 48 40.375 41.703125 38.8125 \nQ 48.828125 37.15625 52.796875 32.3125 \nQ 56.78125 27.484375 56.78125 20.515625 \nQ 56.78125 9.90625 50.3125 4.234375 \nQ 43.84375 -1.421875 31.78125 -1.421875 \nQ 19.734375 -1.421875 13.25 4.234375 \nQ 6.78125 9.90625 6.78125 20.515625 \nQ 6.78125 27.484375 10.78125 32.3125 \nQ 14.796875 37.15625 21.921875 38.8125 \nz\nM 18.3125 54.390625 \nQ 18.3125 48.734375 21.84375 45.5625 \nQ 25.390625 42.390625 31.78125 42.390625 \nQ 38.140625 42.390625 41.71875 45.5625 \nQ 45.3125 48.734375 45.3125 54.390625 \nQ 45.3125 60.0625 41.71875 63.234375 \nQ 38.140625 66.40625 31.78125 66.40625 \nQ 25.390625 66.40625 21.84375 63.234375 \nQ 18.3125 60.0625 18.3125 54.390625 \nz\n\" id=\"DejaVuSans-38\"/>\n      </defs>\n      <g transform=\"translate(241.475615 113.114831)scale(0.1 -0.1)\">\n       <use xlink:href=\"#DejaVuSans-38\"/>\n       <use x=\"63.623047\" xlink:href=\"#DejaVuSans-30\"/>\n      </g>\n     </g>\n    </g>\n    <g id=\"xtick_6\">\n     <g id=\"line2d_6\">\n      <g>\n       <use style=\"stroke:#000000;stroke-width:0.8;\" x=\"302.723361\" xlink:href=\"#m7a89838881\" y=\"98.516393\"/>\n      </g>\n     </g>\n     <g id=\"text_6\">\n      <!-- 100 -->\n      <defs>\n       <path d=\"M 12.40625 8.296875 \nL 28.515625 8.296875 \nL 28.515625 63.921875 \nL 10.984375 60.40625 \nL 10.984375 69.390625 \nL 28.421875 72.90625 \nL 38.28125 72.90625 \nL 38.28125 8.296875 \nL 54.390625 8.296875 \nL 54.390625 0 \nL 12.40625 0 \nz\n\" id=\"DejaVuSans-31\"/>\n      </defs>\n      <g transform=\"translate(293.179611 113.114831)scale(0.1 -0.1)\">\n       <use xlink:href=\"#DejaVuSans-31\"/>\n       <use x=\"63.623047\" xlink:href=\"#DejaVuSans-30\"/>\n       <use x=\"127.246094\" xlink:href=\"#DejaVuSans-30\"/>\n      </g>\n     </g>\n    </g>\n    <g id=\"xtick_7\">\n     <g id=\"line2d_7\">\n      <g>\n       <use style=\"stroke:#000000;stroke-width:0.8;\" x=\"357.608607\" xlink:href=\"#m7a89838881\" y=\"98.516393\"/>\n      </g>\n     </g>\n     <g id=\"text_7\">\n      <!-- 120 -->\n      <g transform=\"translate(348.064857 113.114831)scale(0.1 -0.1)\">\n       <use xlink:href=\"#DejaVuSans-31\"/>\n       <use x=\"63.623047\" xlink:href=\"#DejaVuSans-32\"/>\n       <use x=\"127.246094\" xlink:href=\"#DejaVuSans-30\"/>\n      </g>\n     </g>\n    </g>\n   </g>\n   <g id=\"matplotlib.axis_2\">\n    <g id=\"ytick_1\">\n     <g id=\"line2d_8\">\n      <defs>\n       <path d=\"M 0 0 \nL -3.5 0 \n\" id=\"m9d4b6285ee\" style=\"stroke:#000000;stroke-width:0.8;\"/>\n      </defs>\n      <g>\n       <use style=\"stroke:#000000;stroke-width:0.8;\" x=\"26.925\" xlink:href=\"#m9d4b6285ee\" y=\"12.072131\"/>\n      </g>\n     </g>\n     <g id=\"text_8\">\n      <!-- 0 -->\n      <g transform=\"translate(13.5625 15.87135)scale(0.1 -0.1)\">\n       <use xlink:href=\"#DejaVuSans-30\"/>\n      </g>\n     </g>\n    </g>\n    <g id=\"ytick_2\">\n     <g id=\"line2d_9\">\n      <g>\n       <use style=\"stroke:#000000;stroke-width:0.8;\" x=\"26.925\" xlink:href=\"#m9d4b6285ee\" y=\"39.514754\"/>\n      </g>\n     </g>\n     <g id=\"text_9\">\n      <!-- 10 -->\n      <g transform=\"translate(7.2 43.313973)scale(0.1 -0.1)\">\n       <use xlink:href=\"#DejaVuSans-31\"/>\n       <use x=\"63.623047\" xlink:href=\"#DejaVuSans-30\"/>\n      </g>\n     </g>\n    </g>\n    <g id=\"ytick_3\">\n     <g id=\"line2d_10\">\n      <g>\n       <use style=\"stroke:#000000;stroke-width:0.8;\" x=\"26.925\" xlink:href=\"#m9d4b6285ee\" y=\"66.957377\"/>\n      </g>\n     </g>\n     <g id=\"text_10\">\n      <!-- 20 -->\n      <g transform=\"translate(7.2 70.756596)scale(0.1 -0.1)\">\n       <use xlink:href=\"#DejaVuSans-32\"/>\n       <use x=\"63.623047\" xlink:href=\"#DejaVuSans-30\"/>\n      </g>\n     </g>\n    </g>\n    <g id=\"ytick_4\">\n     <g id=\"line2d_11\">\n      <g>\n       <use style=\"stroke:#000000;stroke-width:0.8;\" x=\"26.925\" xlink:href=\"#m9d4b6285ee\" y=\"94.4\"/>\n      </g>\n     </g>\n     <g id=\"text_11\">\n      <!-- 30 -->\n      <defs>\n       <path d=\"M 40.578125 39.3125 \nQ 47.65625 37.796875 51.625 33 \nQ 55.609375 28.21875 55.609375 21.1875 \nQ 55.609375 10.40625 48.1875 4.484375 \nQ 40.765625 -1.421875 27.09375 -1.421875 \nQ 22.515625 -1.421875 17.65625 -0.515625 \nQ 12.796875 0.390625 7.625 2.203125 \nL 7.625 11.71875 \nQ 11.71875 9.328125 16.59375 8.109375 \nQ 21.484375 6.890625 26.8125 6.890625 \nQ 36.078125 6.890625 40.9375 10.546875 \nQ 45.796875 14.203125 45.796875 21.1875 \nQ 45.796875 27.640625 41.28125 31.265625 \nQ 36.765625 34.90625 28.71875 34.90625 \nL 20.21875 34.90625 \nL 20.21875 43.015625 \nL 29.109375 43.015625 \nQ 36.375 43.015625 40.234375 45.921875 \nQ 44.09375 48.828125 44.09375 54.296875 \nQ 44.09375 59.90625 40.109375 62.90625 \nQ 36.140625 65.921875 28.71875 65.921875 \nQ 24.65625 65.921875 20.015625 65.03125 \nQ 15.375 64.15625 9.8125 62.3125 \nL 9.8125 71.09375 \nQ 15.4375 72.65625 20.34375 73.4375 \nQ 25.25 74.21875 29.59375 74.21875 \nQ 40.828125 74.21875 47.359375 69.109375 \nQ 53.90625 64.015625 53.90625 55.328125 \nQ 53.90625 49.265625 50.4375 45.09375 \nQ 46.96875 40.921875 40.578125 39.3125 \nz\n\" id=\"DejaVuSans-33\"/>\n      </defs>\n      <g transform=\"translate(7.2 98.199219)scale(0.1 -0.1)\">\n       <use xlink:href=\"#DejaVuSans-33\"/>\n       <use x=\"63.623047\" xlink:href=\"#DejaVuSans-30\"/>\n      </g>\n     </g>\n    </g>\n   </g>\n   <g id=\"patch_3\">\n    <path d=\"M 26.925 98.516393 \nL 26.925 10.7 \n\" style=\"fill:none;stroke:#000000;stroke-linecap:square;stroke-linejoin:miter;stroke-width:0.8;\"/>\n   </g>\n   <g id=\"patch_4\">\n    <path d=\"M 361.725 98.516393 \nL 361.725 10.7 \n\" style=\"fill:none;stroke:#000000;stroke-linecap:square;stroke-linejoin:miter;stroke-width:0.8;\"/>\n   </g>\n   <g id=\"patch_5\">\n    <path d=\"M 26.925 98.516393 \nL 361.725 98.516393 \n\" style=\"fill:none;stroke:#000000;stroke-linecap:square;stroke-linejoin:miter;stroke-width:0.8;\"/>\n   </g>\n   <g id=\"patch_6\">\n    <path d=\"M 26.925 10.7 \nL 361.725 10.7 \n\" style=\"fill:none;stroke:#000000;stroke-linecap:square;stroke-linejoin:miter;stroke-width:0.8;\"/>\n   </g>\n  </g>\n </g>\n <defs>\n  <clipPath id=\"p3f98c783c7\">\n   <rect height=\"87.816393\" width=\"334.8\" x=\"26.925\" y=\"10.7\"/>\n  </clipPath>\n </defs>\n</svg>\n",
      "image/png": "[encoded data removed]"
     },
     "metadata": {
      "needs_background": "light"
     }
    }
   ],
   "source": [
    "# get some random training images\n",
    "dataiter = iter(trainloader)\n",
    "images, labels = dataiter.next()\n",
    "\n",
    "print('size of images is {}'.format(images.size()))\n",
    "\n",
    "# create grid of images\n",
    "img_grid = torchvision.utils.make_grid(images)\n",
    "\n",
    "# show images\n",
    "matplotlib_imshow(img_grid, one_channel=True)\n",
    "\n",
    "# write to tensorboard\n",
    "writer.add_image('four_fashion_mnist_images', img_grid)"
   ]
  },
  {
   "cell_type": "code",
   "execution_count": null,
   "metadata": {},
   "outputs": [],
   "source": []
  }
 ]
}