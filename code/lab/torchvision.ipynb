{
 "metadata": {
  "language_info": {
   "codemirror_mode": {
    "name": "ipython",
    "version": 3
   },
   "file_extension": ".py",
   "mimetype": "text/x-python",
   "name": "python",
   "nbconvert_exporter": "python",
   "pygments_lexer": "ipython3",
   "version": "3.6.13"
  },
  "orig_nbformat": 4,
  "kernelspec": {
   "name": "python3",
   "display_name": "Python 3.6.13 64-bit ('pytorch': conda)"
  },
  "interpreter": {
   "hash": "6a7cafeaeb3fd68df71f631e022add281d537fd7827e106ecab671299a698970"
  }
 },
 "nbformat": 4,
 "nbformat_minor": 2,
 "cells": [
  {
   "cell_type": "code",
   "execution_count": 2,
   "metadata": {},
   "outputs": [],
   "source": [
    "import torch\n",
    "import torchvision\n",
    "import torchvision.transforms as transforms\n",
    "from PIL import Image"
   ]
  },
  {
   "cell_type": "code",
   "execution_count": 22,
   "metadata": {},
   "outputs": [
    {
     "output_type": "stream",
     "name": "stdout",
     "text": [
      "shape of img is torch.Size([4, 70, 70])\n"
     ]
    }
   ],
   "source": [
    "img = Image.open('./data/walle.png')\n",
    "# png 图片为 4 通道(rgba)， 改为 3 通道\n",
    "img = img.convert('RGB')\n",
    "img.show()\n",
    "\n",
    "print(\"shape of img is {}\".format(img_t.size()))\n",
    "\n",
    "# resize the image\n",
    "resize = transforms.Resize((80, 80))\n",
    "\n",
    "# center the image\n",
    "center = transforms.CenterCrop(70)\n",
    "\n",
    "# make img to tensor\n",
    "tensor = transforms.ToTensor()\n",
    "\n",
    "# make tensor to PIL image\n",
    "pil = transforms.ToPILImage()\n",
    "\n",
    "# normalize the img\n",
    "# 参数1:r,g,b 均值为 [0.485, 0.456, 0.406]\n",
    "# 参数2:r, g, b 标准差为 [0.229, 0.224, 0.225]\n",
    "\n",
    "normalize = transforms.Normalize([0.485, 0.456, 0.406],[0.229, 0.224, 0.225])\n",
    "\n",
    "trans = transforms.Compose([\n",
    "    resize,\n",
    "    center,\n",
    "    tensor,\n",
    "    pil\n",
    "])\n",
    "\n",
    "\n",
    "img_s = resize(img)\n",
    "img_c = center(img_s)\n",
    "img_t = tensor(img_c)\n",
    "img_n = normalize(img_t)\n",
    "img_p = pil(img_n)\n",
    "img_p.show()"
   ]
  },
  {
   "cell_type": "code",
   "execution_count": null,
   "metadata": {},
   "outputs": [],
   "source": []
  }
 ]
}