{
 "metadata": {
  "language_info": {
   "codemirror_mode": {
    "name": "ipython",
    "version": 3
   },
   "file_extension": ".py",
   "mimetype": "text/x-python",
   "name": "python",
   "nbconvert_exporter": "python",
   "pygments_lexer": "ipython3",
   "version": "3.6.13"
  },
  "orig_nbformat": 4,
  "kernelspec": {
   "name": "python3",
   "display_name": "Python 3.6.13 64-bit ('pytorch': conda)"
  },
  "interpreter": {
   "hash": "6a7cafeaeb3fd68df71f631e022add281d537fd7827e106ecab671299a698970"
  }
 },
 "nbformat": 4,
 "nbformat_minor": 2,
 "cells": [
  {
   "cell_type": "code",
   "execution_count": 22,
   "metadata": {},
   "outputs": [],
   "source": [
    "import torch\n",
    "import torchvision\n",
    "import torchvision.transforms as transforms\n",
    "import torch.nn as nn\n",
    "from PIL import Image\n",
    "import matplotlib.pyplot as plt\n",
    "from torchvision.utils import make_grid"
   ]
  },
  {
   "cell_type": "code",
   "execution_count": 7,
   "metadata": {},
   "outputs": [],
   "source": [
    "# import image\n",
    "\n",
    "img = Image.open('./data/walle.png')\n",
    "# png 图片为 4 通道(rgba)， 改为 3 通道\n",
    "img = img.convert('RGB')\n",
    "# img.show()"
   ]
  },
  {
   "cell_type": "code",
   "execution_count": 8,
   "metadata": {},
   "outputs": [
    {
     "output_type": "stream",
     "name": "stdout",
     "text": [
      "shape of img is torch.Size([3, 70, 70])\n"
     ]
    }
   ],
   "source": [
    "\n",
    "# resize the image\n",
    "resize = transforms.Resize((80, 80))\n",
    "\n",
    "# center the image\n",
    "center = transforms.CenterCrop(70)\n",
    "\n",
    "# make img to tensor\n",
    "tensor = transforms.ToTensor()\n",
    "\n",
    "# make tensor to PIL image\n",
    "pil = transforms.ToPILImage()\n",
    "\n",
    "# normalize the img\n",
    "# 参数1:r,g,b 均值为 [0.485, 0.456, 0.406]\n",
    "# 参数2:r, g, b 标准差为 [0.229, 0.224, 0.225]\n",
    "\n",
    "normalize = transforms.Normalize([0.9, 0.9, 0.9],[0.5, 0.5, 0.5])\n",
    "\n",
    "trans = transforms.Compose([\n",
    "    resize,\n",
    "    center,\n",
    "    tensor,\n",
    "    pil\n",
    "])\n",
    "\n",
    "\n",
    "img_s = resize(img)\n",
    "img_c = center(img_s)\n",
    "img_t = tensor(img_c)\n",
    "img_n = normalize(img_t)\n",
    "img_p = pil(img_n)\n",
    "# img_p.show()\n",
    "\n",
    "trans_img = trans(img)\n",
    "# trans_img.show()\n",
    "\n",
    "print(\"shape of img is {}\".format(img_t.size()))\n"
   ]
  },
  {
   "cell_type": "code",
   "execution_count": 9,
   "metadata": {},
   "outputs": [
    {
     "output_type": "stream",
     "name": "stdout",
     "text": [
      "size of img_t is torch.Size([3, 70, 70])\nsize of img_conv is torch.Size([1, 12, 66, 66])\n"
     ]
    }
   ],
   "source": [
    "# Conv2d 卷积\n",
    "print('size of img_t is {}'.format(img_t.size()))\n",
    "\n",
    "conv2 = nn.Conv2d(3, 12, 5, 1)\n",
    "\n",
    "img_conv = conv2(img_t.unsqueeze(0))\n",
    "\n",
    "img_conv_pil = pil(img_conv.squeeze(0))\n",
    "# img_conv_pil.show()\n",
    "\n",
    "print('size of img_conv is {}'.format(img_conv.size()))\n",
    "        "
   ]
  },
  {
   "cell_type": "code",
   "execution_count": 44,
   "metadata": {},
   "outputs": [
    {
     "output_type": "stream",
     "name": "stdout",
     "text": [
      "size of img_pool is torch.Size([1, 12, 33, 33])\n"
     ]
    }
   ],
   "source": [
    "# Maxpool 池化层\n",
    "\n",
    "pool = nn.MaxPool2d(2, 2)\n",
    "\n",
    "img_pool = pool(img_conv)\n",
    "\n",
    "print('size of img_pool is {}'.format(img_pool.size()))"
   ]
  },
  {
   "cell_type": "code",
   "execution_count": 43,
   "metadata": {},
   "outputs": [],
   "source": [
    "# make_grid\n",
    "img_2 = Image.open('./data/kitten.jpg')\n",
    "imgs = torch.tensor([tensor(resize(img)).numpy(), tensor(resize(img_2)).numpy()])\n",
    "grid = make_grid(imgs)\n",
    "\n",
    "# plt.imshow(grid, cmap=\"Greys\")\n"
   ]
  },
  {
   "cell_type": "code",
   "execution_count": null,
   "metadata": {},
   "outputs": [],
   "source": []
  }
 ]
}