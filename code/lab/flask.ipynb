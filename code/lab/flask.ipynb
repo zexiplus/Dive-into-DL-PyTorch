{
 "metadata": {
  "language_info": {
   "codemirror_mode": {
    "name": "ipython",
    "version": 3
   },
   "file_extension": ".py",
   "mimetype": "text/x-python",
   "name": "python",
   "nbconvert_exporter": "python",
   "pygments_lexer": "ipython3",
   "version": "3.6.13"
  },
  "orig_nbformat": 4,
  "kernelspec": {
   "name": "python3",
   "display_name": "Python 3.6.13 64-bit ('pytorch': conda)"
  },
  "interpreter": {
   "hash": "628a95ef4e044bb3a862cae43fd368045431338c356870eba45002d3214ff2f7"
  }
 },
 "nbformat": 4,
 "nbformat_minor": 2,
 "cells": [
  {
   "cell_type": "code",
   "execution_count": 1,
   "metadata": {},
   "outputs": [],
   "source": [
    "# requirements\n",
    "\n",
    "import io\n",
    "import json\n",
    "import os\n",
    "\n",
    "import torch\n",
    "import torchvision.models as models\n",
    "import torchvision.transforms as transforms\n",
    "from PIL import Image\n",
    "from flask import Flask, jsonify, request"
   ]
  },
  {
   "cell_type": "code",
   "execution_count": 2,
   "metadata": {},
   "outputs": [
    {
     "output_type": "stream",
     "name": "stderr",
     "text": [
      "Downloading: \"https://download.pytorch.org/models/densenet121-a639ec97.pth\" to /home/ubuntu/.cache/torch/hub/checkpoints/densenet121-a639ec97.pth\n"
     ]
    },
    {
     "output_type": "display_data",
     "data": {
      "text/plain": "  0%|          | 0.00/30.8M [00:00<?, ?B/s]",
      "application/vnd.jupyter.widget-view+json": {
       "version_major": 2,
       "version_minor": 0,
       "model_id": "d04f703836ca4998ae47b6d3b664eef8"
      }
     },
     "metadata": {}
    },
    {
     "output_type": "stream",
     "name": "stdout",
     "text": [
      " * Serving Flask app '__main__' (lazy loading)\n",
      " * Environment: production\n",
      "\u001b[31m   WARNING: This is a development server. Do not use it in a production deployment.\u001b[0m\n",
      "\u001b[2m   Use a production WSGI server instead.\u001b[0m\n",
      " * Debug mode: off\n",
      " * Running on http://127.0.0.1:5000/ (Press CTRL+C to quit)\n"
     ]
    }
   ],
   "source": [
    "# pre-processing\n",
    "\n",
    "# transform image\n",
    "def transform_image(infile):\n",
    "    input_transforms = [transforms.Resize(255), # resize to 255, 255\n",
    "        transforms.CenterCrop(224), # center \n",
    "        transforms.ToTensor(), # to tensor\n",
    "        # \n",
    "        transforms.Normalize([0.485, 0.456, 0.406],\n",
    "            [0.229, 0.224, 0.225])]\n",
    "    my_transforms = transforms.Compose(input_transforms)\n",
    "    image = Image.open(infile)\n",
    "    timg = my_transforms(image)\n",
    "    timg.unsqueeze_(0) # [1,2,3] -> [[1, 2, 3]] 因为预测函数输入是批量个 tensor\n",
    "    return timg\n",
    "\n",
    "# predict\n",
    "def get_prediction(input_tensor):\n",
    "    outputs = model.forward(input_tensor)\n",
    "    _, y_hat = outputs.max(1)\n",
    "    prediction = y_hat.item()\n",
    "    return prediction\n",
    "\n",
    "# get prediction label\n",
    "def render_prediction(prediction_idx):\n",
    "    stridx = str(prediction_idx)\n",
    "    class_name = 'Unknown'\n",
    "    if img_class_map is not None:\n",
    "        if stridx in img_class_map is not None:\n",
    "            class_name = img_class_map[stridx][1]\n",
    "\n",
    "    return prediction_idx, class_name\n",
    "\n",
    "# create Flask app\n",
    "app = Flask(__name__)\n",
    "\n",
    " # Trained on 1000 classes from ImageNet\n",
    "model = models.densenet121(pretrained=True)              \n",
    "model.eval()\n",
    "\n",
    "img_class_map = None\n",
    "mapping_file_path = './data/index_to_name.json'\n",
    "\n",
    "# read file\n",
    "if os.path.isfile(mapping_file_path):\n",
    "    with open (mapping_file_path) as f:\n",
    "        img_class_map = json.load(f)\n",
    "\n",
    "\n",
    "@app.route('/', methods=['GET'])\n",
    "def root():\n",
    "    return jsonify({'msg' : 'Try POSTing to the /predict endpoint with an RGB image attachment'})\n",
    "\n",
    "# accept redict request\n",
    "@app.route('/predict', methods=['POST'])\n",
    "def predict():\n",
    "    if request.method == 'POST':\n",
    "        file = request.files['file']\n",
    "        if file is not None:\n",
    "            input_tensor = transform_image(file)\n",
    "            prediction_idx = get_prediction(input_tensor)\n",
    "            class_id, class_name = render_prediction(prediction_idx)\n",
    "            return jsonify({'class_id': class_id, 'class_name': class_name})\n",
    "\n",
    "# start up server\n",
    "if __name__ == '__main__':\n",
    "    app.run()"
   ]
  },
  {
   "source": [
    "#### start server\n",
    "```shell\n",
    "FLASK_APP=app.py flask run\n",
    "```\n",
    "\n",
    "#### post\n",
    "```shell\n",
    "curl -X POST -H \"Content-Type: multipart/form-data\" http://localhost:5000/predict -F \"file=@../data/kitten.jpg\"\n",
    "```"
   ],
   "cell_type": "markdown",
   "metadata": {}
  }
 ]
}