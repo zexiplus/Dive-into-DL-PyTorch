{
 "metadata": {
  "language_info": {
   "codemirror_mode": {
    "name": "ipython",
    "version": 3
   },
   "file_extension": ".py",
   "mimetype": "text/x-python",
   "name": "python",
   "nbconvert_exporter": "python",
   "pygments_lexer": "ipython3",
   "version": "3.6.13"
  },
  "orig_nbformat": 2,
  "kernelspec": {
   "name": "python3613jvsc74a57bd06a7cafeaeb3fd68df71f631e022add281d537fd7827e106ecab671299a698970",
   "display_name": "Python 3.6.13 64-bit ('pytorch': conda)"
  }
 },
 "nbformat": 4,
 "nbformat_minor": 2,
 "cells": [
  {
   "cell_type": "code",
   "execution_count": 70,
   "metadata": {},
   "outputs": [
    {
     "output_type": "stream",
     "name": "stdout",
     "text": [
      "len(mnist_train) 60000\nlen(mnist_test) 10000\n"
     ]
    }
   ],
   "source": [
    "import torch\n",
    "import sys\n",
    "import torch.nn as nn\n",
    "import numpy as np\n",
    "sys.path.append(\"..\")\n",
    "import d2lzh_pytorch as d2l\n",
    "\n",
    "def softmax(X):\n",
    "    X_exp = X.exp()\n",
    "    partition = X_exp.sum(dim=1, keepdim=True)\n",
    "    return X_exp / partition\n",
    "\n",
    "\n",
    "def cross_entropy(y_hat, y):\n",
    "    y_hat = softmax(y_hat)\n",
    "    return (- torch.log(y_hat.gather(1, y.view(-1, 1)))).sum() / y_hat.shape[1]\n",
    "\n",
    "def drop_out(X, drop):\n",
    "    assert 0 <= drop <=1\n",
    "    keep_drop = 1 - drop\n",
    "    a = (torch.rand(X.shape) < keep_drop).float()\n",
    "    return X * a / keep_drop\n",
    "\n",
    "\n",
    "epoch = 10\n",
    "batch_size = 500\n",
    "lr = 100\n",
    "loss = nn.CrossEntropyLoss()\n",
    "\n",
    "# 28 X 28\n",
    "train_iter, test_iter = d2l.load_data_fashion_mnist(batch_size)\n",
    "\n",
    "\n",
    "\n",
    "W1 = torch.tensor(np.random.normal(0, 0.01, size=(784, 200)), dtype=torch.float32, requires_grad=True)\n",
    "b1 = torch.zeros(size=(batch_size, 200), requires_grad=True)\n",
    "\n",
    "W2 = torch.tensor(np.random.normal(0, 0.01, size=(200, 100)), dtype=torch.float32, requires_grad=True)\n",
    "b2 = torch.zeros(size=(batch_size, 100), requires_grad=True)\n",
    "\n",
    "\n",
    "W3 = torch.tensor(np.random.normal(0, 0.01, size=(100, 10)), dtype=torch.float32, requires_grad=True)\n",
    "b3 = torch.zeros(size=(batch_size, 10), requires_grad=True)\n",
    "params = [W1, b1, W2, b2, W3, b3]\n",
    "\n",
    "def net(X):\n",
    "    X = X.view(-1, 784)\n",
    "    # print('X.shape', X.shape)\n",
    "    X1 = torch.matmul(X, W1) + b1\n",
    "    X1 = drop_out(X1, 0.2)\n",
    "    X1.relu_()\n",
    "    X2 = torch.matmul(X1, W2) + b2\n",
    "    X2 = drop_out(X2, 0.3)\n",
    "    X2.relu_()\n",
    "    X3 = torch.matmul(X2, W3) + b3\n",
    "    return X3\n",
    "\n"
   ]
  },
  {
   "cell_type": "code",
   "execution_count": 71,
   "metadata": {},
   "outputs": [
    {
     "output_type": "stream",
     "name": "stdout",
     "text": [
      "tensor([[ 1,  2,  3,  4,  5],\n        [ 6,  7,  8,  9, 10]])\ntensor(55)\ntensor([[0., 0., 0., 0., 0.],\n        [0., 0., 0., 0., 0.]])\ntensor(0.)\n"
     ]
    }
   ],
   "source": [
    "# 验证 drop_out\n",
    "X = torch.arange(1, 11).view(2, 5)\n",
    "X_drop = drop_out(X, 0.9) \n",
    "print(X)\n",
    "print(X.sum())\n",
    "print(X_drop)\n",
    "print(X_drop.sum())"
   ]
  },
  {
   "cell_type": "code",
   "execution_count": 72,
   "metadata": {},
   "outputs": [
    {
     "output_type": "stream",
     "name": "stdout",
     "text": [
      "epoch 1, loss 0.0041, train acc 0.212, test acc 0.427\n",
      "epoch 2, loss 0.0023, train acc 0.512, test acc 0.611\n",
      "epoch 3, loss 0.0016, train acc 0.663, test acc 0.684\n",
      "epoch 4, loss 0.0014, train acc 0.731, test acc 0.757\n",
      "epoch 5, loss 0.0013, train acc 0.771, test acc 0.751\n",
      "epoch 6, loss 0.0012, train acc 0.792, test acc 0.796\n",
      "epoch 7, loss 0.0011, train acc 0.809, test acc 0.811\n",
      "epoch 8, loss 0.0010, train acc 0.823, test acc 0.807\n",
      "epoch 9, loss 0.0010, train acc 0.830, test acc 0.819\n",
      "epoch 10, loss 0.0009, train acc 0.837, test acc 0.819\n"
     ]
    }
   ],
   "source": [
    "# 训练\n",
    "d2l.train_ch3(net, train_iter, test_iter, loss, epoch, batch_size, params=params, lr=lr, optimizer=None)"
   ]
  },
  {
   "cell_type": "code",
   "execution_count": null,
   "metadata": {},
   "outputs": [],
   "source": []
  }
 ]
}