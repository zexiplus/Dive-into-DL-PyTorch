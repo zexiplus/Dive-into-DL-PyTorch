{
 "metadata": {
  "language_info": {
   "codemirror_mode": {
    "name": "ipython",
    "version": 3
   },
   "file_extension": ".py",
   "mimetype": "text/x-python",
   "name": "python",
   "nbconvert_exporter": "python",
   "pygments_lexer": "ipython3",
   "version": "3.6.13"
  },
  "orig_nbformat": 2,
  "kernelspec": {
   "name": "python3",
   "display_name": "Python 3.6.13 64-bit ('pytorch': conda)"
  },
  "interpreter": {
   "hash": "6a7cafeaeb3fd68df71f631e022add281d537fd7827e106ecab671299a698970"
  }
 },
 "nbformat": 4,
 "nbformat_minor": 2,
 "cells": [
  {
   "cell_type": "code",
   "execution_count": 13,
   "metadata": {},
   "outputs": [],
   "source": [
    "import torch\n",
    "import numpy as np\n",
    "import random\n",
    "import matplotlib.pyplot as plt\n",
    "import torch.nn as nn\n",
    "import math"
   ]
  },
  {
   "cell_type": "code",
   "execution_count": 67,
   "metadata": {},
   "outputs": [
    {
     "output_type": "execute_result",
     "data": {
      "text/plain": [
       "6"
      ]
     },
     "metadata": {},
     "execution_count": 67
    }
   ],
   "source": [
    "# threads\n",
    "torch.get_num_threads()"
   ]
  },
  {
   "cell_type": "code",
   "execution_count": 66,
   "metadata": {},
   "outputs": [
    {
     "output_type": "stream",
     "name": "stdout",
     "text": [
      "a is: 123\n1000000.0\n"
     ]
    }
   ],
   "source": [
    "# f: 字符串 format 函数\n",
    "a = '123'\n",
    "print(f\"a is: {a}\")\n",
    "# 表示保留 1 位小数总长度为 5 个字节的的浮点数\n",
    "print(f\"{1e6:>5.1f}\") "
   ]
  },
  {
   "cell_type": "code",
   "execution_count": 63,
   "metadata": {},
   "outputs": [
    {
     "output_type": "stream",
     "name": "stdout",
     "text": [
      "tensor([[0.0740, 0.8700, 0.8036],\n        [0.4347, 0.2328, 0.5896]])\ntorch.Size([2, 3])\ntorch.Size([2, 3, 1])\ntorch.Size([2, 1, 3])\n"
     ]
    }
   ],
   "source": [
    "# reshape 重新变形\n",
    "a = torch.rand(2,3)\n",
    "b = a.reshape(-1, a.shape[-1], 1)\n",
    "c = a.reshape(-1, 1, a.shape[-1])\n",
    "print(a)\n",
    "print(a.shape)\n",
    "print(b.shape)\n",
    "print(c.shape)"
   ]
  },
  {
   "cell_type": "code",
   "execution_count": 54,
   "metadata": {},
   "outputs": [
    {
     "output_type": "stream",
     "name": "stdout",
     "text": [
      "torch.Size([10, 3, 5])\n"
     ]
    }
   ],
   "source": [
    "# bmm 批量乘积\n",
    "\n",
    "a = torch.randn(10, 3, 4)\n",
    "b = torch.randn(10, 4, 5)\n",
    "c = torch.bmm(input, mat2)\n",
    "print(c.size())"
   ]
  },
  {
   "cell_type": "code",
   "execution_count": 43,
   "metadata": {},
   "outputs": [
    {
     "output_type": "stream",
     "name": "stdout",
     "text": [
      "tensor([[ 1,  4,  9],\n        [ 4,  9, 16]])\ntensor([[22, 28],\n        [31, 40]])\ntensor([[22, 28],\n        [31, 40]])\nTrue\ntensor(36)\n"
     ]
    }
   ],
   "source": [
    "\n",
    "# mul 哈德玛积\n",
    "a = torch.tensor([[1,2,3], [2,3,4]])\n",
    "print(a.mul(a))\n",
    "\n",
    "# mm or matmul 矩阵乘积\n",
    "b = torch.tensor([[1,2], [3,4], [5,6]])\n",
    "print(a.mm(b))\n",
    "print(a.matmul(b))\n",
    "\n",
    "# equal 相等\n",
    "print(a.mm(b).equal(a.matmul(b)))\n",
    "\n",
    "\n",
    "# dot 点积，只用于 1D tensor (向量)，且向量长度相等\n",
    "c = torch.tensor([1,2,5])\n",
    "d = torch.tensor([3,4,5])\n",
    "print(c.dot(d))\n",
    "\n"
   ]
  },
  {
   "cell_type": "code",
   "execution_count": 52,
   "metadata": {},
   "outputs": [
    {
     "output_type": "stream",
     "name": "stdout",
     "text": [
      "9\n2\n"
     ]
    }
   ],
   "source": [
    "# numel 元素个数\n",
    "\n",
    "a = torch.tensor([[2,3,5], [3,2,2], [2,5,5]])\n",
    "print(a.numel())\n",
    "\n",
    "# len 获得元素维度个数\n",
    "print(len(a.size()))"
   ]
  },
  {
   "cell_type": "code",
   "execution_count": 12,
   "metadata": {},
   "outputs": [
    {
     "output_type": "stream",
     "name": "stdout",
     "text": [
      "True\nFalse\n"
     ]
    }
   ],
   "source": [
    "# allclose 接近\n",
    "a = torch.tensor([1, 2, 3e-09])\n",
    "b = torch.tensor([1, 2, 3e-11])\n",
    "c = torch.tensor([1, 2, 3e-08])\n",
    "\n",
    "print(a.allclose(b))\n",
    "print(b.allclose(c))"
   ]
  },
  {
   "cell_type": "code",
   "execution_count": 60,
   "metadata": {},
   "outputs": [
    {
     "output_type": "stream",
     "name": "stdout",
     "text": [
      "tensor([4])\ntensor([2])\n"
     ]
    }
   ],
   "source": [
    "# max 返回最大值的项，索引\n",
    "a = torch.tensor([[0,3,4]])\n",
    "item, index = a.max(1)\n",
    "print(item)\n",
    "print(index)"
   ]
  },
  {
   "cell_type": "code",
   "execution_count": 11,
   "metadata": {},
   "outputs": [
    {
     "output_type": "stream",
     "name": "stdout",
     "text": [
      "__main__\n"
     ]
    }
   ],
   "source": [
    "print(__name__)"
   ]
  },
  {
   "cell_type": "code",
   "execution_count": 9,
   "metadata": {},
   "outputs": [
    {
     "output_type": "stream",
     "name": "stdout",
     "text": [
      "a is tensor([[[ 1.5674, -0.7047, -0.6260,  0.3988],\n         [-0.6553,  2.2142, -0.8052, -2.2858],\n         [-0.1376, -2.2843,  0.2720, -0.1388]],\n\n        [[-0.8089,  0.3537,  0.3438, -0.7752],\n         [-0.6980,  0.7827, -0.9214,  0.5339],\n         [ 0.2284,  1.0296,  0.6252, -0.3889]]])\nshape of a is torch.Size([2, 3, 4]) \n\nlog a is : tensor([[[ 0.6484,     nan,     nan, -1.3262],\n         [    nan,  1.1468,     nan,     nan],\n         [    nan,     nan, -1.8782,     nan]],\n\n        [[    nan, -1.4996, -1.5402,     nan],\n         [    nan, -0.3535,     nan, -0.9052],\n         [-2.1307,  0.0421, -0.6776,     nan]]]) \n\nslice log a tensor([[ 0.6484,     nan,     nan, -1.3262],\n        [    nan,  1.1468,     nan,     nan],\n        [    nan,     nan, -1.8782,     nan]])\n"
     ]
    }
   ],
   "source": [
    "# log\n",
    "a = torch.randn(2,3,4)\n",
    "loga = a.log2()\n",
    "print(\"a is\", a)\n",
    "print(\"shape of a is {}\".format(a.size()), '\\n')\n",
    "print(\"log a is : {}\".format(loga), '\\n')\n",
    "\n",
    "# select 选择第 0 维（最外层）所有行、列\n",
    "print(\"slice log a\", loga[0, :, :])"
   ]
  },
  {
   "cell_type": "code",
   "execution_count": 57,
   "metadata": {},
   "outputs": [
    {
     "output_type": "stream",
     "name": "stdout",
     "text": [
      "torch.Size([2, 3])\ntorch.Size([3, 2])\n"
     ]
    }
   ],
   "source": [
    "# t 2D tensor 形状变换\n",
    "a = torch.randn(2, 3)\n",
    "print(a.size())\n",
    "print(a.t().size())"
   ]
  },
  {
   "cell_type": "code",
   "execution_count": 23,
   "metadata": {},
   "outputs": [
    {
     "output_type": "stream",
     "name": "stdout",
     "text": [
      "tensor([[-6, -5, -4, -3],\n        [-2, -1,  0,  1],\n        [ 2,  3,  4,  5]])\ntensor([[0, 0, 0, 0],\n        [0, 0, 0, 1],\n        [2, 3, 4, 5]])\ntensor([[-6, -5, -4, -3],\n        [-2, -1,  0,  1],\n        [ 2,  3,  4,  5]])\ntensor([[0, 0, 0, 0],\n        [0, 0, 0, 1],\n        [2, 3, 4, 5]])\n"
     ]
    }
   ],
   "source": [
    "# relu\n",
    "a = torch.arange(-6, 6).view(3, 4)\n",
    "print(a)\n",
    "print(a.relu())\n",
    "print(a)\n",
    "print(a.relu_())"
   ]
  },
  {
   "cell_type": "code",
   "execution_count": 24,
   "metadata": {},
   "outputs": [
    {
     "output_type": "stream",
     "name": "stdout",
     "text": [
      "tensor([[ 0,  1,  4],\n        [ 9, 16, 25]])\n"
     ]
    }
   ],
   "source": [
    "# 点积\n",
    "a = torch.arange(0, 6).view(2, 3)\n",
    "b = torch.arange(0, 6).view(2, 3)\n",
    "print(a * b)"
   ]
  },
  {
   "cell_type": "code",
   "execution_count": 25,
   "metadata": {},
   "outputs": [],
   "source": [
    "# python 没有函数提升\n",
    "# a = before(1)\n",
    "\n",
    "def before(num):\n",
    "    print(num + 1)\n"
   ]
  },
  {
   "cell_type": "code",
   "execution_count": 26,
   "metadata": {},
   "outputs": [
    {
     "output_type": "stream",
     "name": "stdout",
     "text": [
      "tensor([[1., 2.],\n        [3., 4.]], requires_grad=True)\ntensor([[1., 2.],\n        [3., 4.]], grad_fn=<CloneBackward>)\ntensor([[1., 2.],\n        [3., 4.]], grad_fn=<CloneBackward>)\ntensor([[1., 2.],\n        [3., 4.]], requires_grad=True)\n"
     ]
    }
   ],
   "source": [
    "# clone， detach\n",
    "\n",
    "t = torch.tensor([[1,2],[3,4]], requires_grad=True, dtype=torch.float32)\n",
    "\n",
    "t1 = t.clone()\n",
    "\n",
    "t2 = t.clone().requires_grad_(True)\n",
    "\n",
    "# 复制 tensor\n",
    "t3 = t.clone().detach().requires_grad_(True)\n",
    "\n",
    "print(t)\n",
    "print(t1)\n",
    "print(t2)\n",
    "print(t3)\n",
    "\n"
   ]
  },
  {
   "cell_type": "code",
   "execution_count": 27,
   "metadata": {},
   "outputs": [
    {
     "output_type": "stream",
     "name": "stdout",
     "text": [
      "torch.Size([32, 90])\ntorch.Size([32, 90])\n"
     ]
    }
   ],
   "source": [
    "# Conv2D\n",
    "input = torch.randn(32, 1, 5, 5) # 32 张 单通道 5 x 5 像素图片\n",
    "\n",
    "m = nn.Sequential(\n",
    "    # 输入通道 1, 输出通道 10, 卷积核大小 5, 步长 1, 填充 1. 输出 shape: (32, 10, 3 , 3)\n",
    "    nn.Conv2d(1, 10, 5, 1, 1), # 3 = (5 + 1 x 2) - 5 + 1\n",
    "    nn.Flatten() # start_dim = 1, return [32, 10 x 3 x 3]\n",
    ")\n",
    "\n",
    "output = m(input)\n",
    "print(output.shape)\n",
    "print(output.size())"
   ]
  },
  {
   "cell_type": "code",
   "execution_count": 28,
   "metadata": {},
   "outputs": [
    {
     "output_type": "stream",
     "name": "stdout",
     "text": [
      "tensor([[0, 1, 2]])\n"
     ]
    }
   ],
   "source": [
    "# 减法广播\n",
    "t1 = torch.tensor([[1, 2, 3]])\n",
    "print(t1 - 1)"
   ]
  },
  {
   "cell_type": "code",
   "execution_count": 29,
   "metadata": {},
   "outputs": [
    {
     "output_type": "stream",
     "name": "stdout",
     "text": [
      "1\ntensor([[0, 5, 2],\n        [1, 2, 3]])\ntensor([[0.0000, 1.0000, 0.4000],\n        [0.2000, 0.4000, 0.6000]])\ntensor([[0.0000, 1.0000, 0.4000],\n        [0.2000, 0.4000, 0.6000]])\ntensor([[0.0000, 5.0000, 2.0000],\n        [0.5000, 1.0000, 1.5000]])\n"
     ]
    }
   ],
   "source": [
    "a = torch.tensor([[0, 1, 2], [1, 2, 3]])\n",
    "print(a[0][1].item())\n",
    "\n",
    "# tensor 索引赋值\n",
    "a[0][1] = 5\n",
    "\n",
    "print(a)\n",
    "\n",
    "print(a / 5)\n",
    "print(a / torch.tensor(5))\n",
    "\n",
    "print(a / torch.tensor([[1], [2]]))"
   ]
  },
  {
   "cell_type": "code",
   "execution_count": 30,
   "metadata": {},
   "outputs": [
    {
     "output_type": "stream",
     "name": "stdout",
     "text": [
      "tensor([[1.2328e-04, 9.9897e-01, 9.1094e-04],\n        [9.9999e-01, 6.1442e-06, 4.1399e-08],\n        [2.5437e-13, 2.5437e-13, 1.0000e+00]], dtype=torch.float64) \n\ntensor([[1.2328e-04, 9.9897e-01, 9.1094e-04],\n        [9.9999e-01, 6.1442e-06, 4.1399e-08],\n        [2.5437e-13, 2.5437e-13, 1.0000e+00]], dtype=torch.float64) \n\n"
     ]
    }
   ],
   "source": [
    "# softmax\n",
    "# softmax 运算把特征值转变为概率，合为 1\n",
    "\n",
    "X = torch.tensor([[3, 12, 5],[21, 9, 4], [2, 2, 31]], dtype=torch.float64)\n",
    "\n",
    "def softmax1(X):\n",
    "    clone = torch.clone(X)\n",
    "    base = torch.zeros(X.shape[0], 1)\n",
    "    for i in range(X.shape[0]):\n",
    "        line = 0\n",
    "        for j in range(X.shape[1]):\n",
    "            item = math.exp(X[i][j].item())\n",
    "            clone[i][j] = item\n",
    "            line += item\n",
    "        base[i][0] += line\n",
    "    return clone / base\n",
    "\n",
    "def softmax2(X):\n",
    "    X_exp = X.exp()\n",
    "    partition = X_exp.sum(dim=1, keepdim=True)\n",
    "    return X_exp / partition\n",
    "\n",
    "\n",
    "print(softmax1(X), '\\n')\n",
    "print(softmax2(X), '\\n')\n",
    "    "
   ]
  },
  {
   "cell_type": "code",
   "execution_count": 59,
   "metadata": {},
   "outputs": [
    {
     "output_type": "stream",
     "name": "stdout",
     "text": [
      "loss1: custom cross entropy 1.382089483260221\nloss2: torch.CrossEntropy 1.382089483260221\n"
     ]
    }
   ],
   "source": [
    "# CrossEntropyLoss\n",
    "import math\n",
    "\n",
    "# input\n",
    "X = torch.tensor([[7, 9, 1],[2, 5, 9], [9, 13, 52]], dtype=torch.float64)\n",
    "\n",
    "\n",
    "y = torch.tensor([1, 1, 2])\n",
    "\n",
    "lossfn = nn.CrossEntropyLoss()\n",
    "\n",
    "# 自定义实现 cross entropy\n",
    "def cross_entropy(y_hat, y):\n",
    "    y_hat = softmax2(y_hat)\n",
    "    return (- torch.log(y_hat.gather(1, y.view(-1, 1)))).sum() / y_hat.shape[1]\n",
    "\n",
    "    \n",
    "loss1 = cross_entropy(X, y)\n",
    "\n",
    "loss2 = lossfn(X, y)\n",
    "\n",
    "\n",
    "\n",
    "\n",
    "print('loss1: custom cross entropy', loss1.item())\n",
    "\n",
    "print('loss2: torch.CrossEntropy',loss2.item())\n",
    "\n",
    "\n",
    "\n",
    "\n",
    "\n",
    "\n",
    "\n"
   ]
  },
  {
   "cell_type": "code",
   "execution_count": 32,
   "metadata": {},
   "outputs": [
    {
     "output_type": "execute_result",
     "data": {
      "text/plain": [
       "tensor([0.4973, 1.0002])"
      ]
     },
     "metadata": {},
     "execution_count": 32
    }
   ],
   "source": [
    "# torch.randn\n",
    "torch.randn((2,3))\n",
    "torch.randn(2)"
   ]
  },
  {
   "cell_type": "code",
   "execution_count": 33,
   "metadata": {},
   "outputs": [
    {
     "output_type": "stream",
     "name": "stdout",
     "text": [
      "OrderedDict([('a', 1), ('b', 2)])\n"
     ]
    }
   ],
   "source": [
    "from collections import OrderedDict\n",
    "# OrderedDict\n",
    "a = OrderedDict([('a', 1), ('b', 2)])\n",
    "print(a)"
   ]
  },
  {
   "cell_type": "code",
   "execution_count": 34,
   "metadata": {},
   "outputs": [
    {
     "output_type": "stream",
     "name": "stdout",
     "text": [
      "tensor([   nan,   -inf, 0.0000, 0.9995, 2.3026])\n",
      "/Users/float/opt/miniconda3/envs/pytorch/lib/python3.6/site-packages/ipykernel_launcher.py:5: UserWarning: torch.range is deprecated and will be removed in a future release because its behavior is inconsistent with Python's range builtin. Instead, use torch.arange, which produces values in [start, end).\n",
      "  \"\"\"\n"
     ]
    },
    {
     "output_type": "execute_result",
     "data": {
      "text/plain": [
       "[<matplotlib.lines.Line2D at 0x7fa2355c16d8>]"
      ]
     },
     "metadata": {},
     "execution_count": 34
    },
    {
     "output_type": "display_data",
     "data": {
      "text/plain": "<Figure size 432x288 with 1 Axes>",
      "image/svg+xml": "<?xml version=\"1.0\" encoding=\"utf-8\" standalone=\"no\"?>\n<!DOCTYPE svg PUBLIC \"-//W3C//DTD SVG 1.1//EN\"\n  \"http://www.w3.org/Graphics/SVG/1.1/DTD/svg11.dtd\">\n<!-- Created with matplotlib (http://matplotlib.org/) -->\n<svg height=\"252.018125pt\" version=\"1.1\" viewBox=\"0 0 366.0625 252.018125\" width=\"366.0625pt\" xmlns=\"http://www.w3.org/2000/svg\" xmlns:xlink=\"http://www.w3.org/1999/xlink\">\n <defs>\n  <style type=\"text/css\">\n*{stroke-linecap:butt;stroke-linejoin:round;}\n  </style>\n </defs>\n <g id=\"figure_1\">\n  <g id=\"patch_1\">\n   <path d=\"M 0 252.018125 \nL 366.0625 252.018125 \nL 366.0625 0 \nL 0 0 \nz\n\" style=\"fill:none;\"/>\n  </g>\n  <g id=\"axes_1\">\n   <g id=\"patch_2\">\n    <path d=\"M 20.5625 228.14 \nL 355.3625 228.14 \nL 355.3625 10.7 \nL 20.5625 10.7 \nz\n\" style=\"fill:#ffffff;\"/>\n   </g>\n   <g id=\"matplotlib.axis_1\">\n    <g id=\"xtick_1\">\n     <g id=\"line2d_1\">\n      <defs>\n       <path d=\"M 0 0 \nL 0 3.5 \n\" id=\"m4c55763e4e\" style=\"stroke:#000000;stroke-width:0.8;\"/>\n      </defs>\n      <g>\n       <use style=\"stroke:#000000;stroke-width:0.8;\" x=\"35.476013\" xlink:href=\"#m4c55763e4e\" y=\"228.14\"/>\n      </g>\n     </g>\n     <g id=\"text_1\">\n      <!-- 0.0 -->\n      <defs>\n       <path d=\"M 31.78125 66.40625 \nQ 24.171875 66.40625 20.328125 58.90625 \nQ 16.5 51.421875 16.5 36.375 \nQ 16.5 21.390625 20.328125 13.890625 \nQ 24.171875 6.390625 31.78125 6.390625 \nQ 39.453125 6.390625 43.28125 13.890625 \nQ 47.125 21.390625 47.125 36.375 \nQ 47.125 51.421875 43.28125 58.90625 \nQ 39.453125 66.40625 31.78125 66.40625 \nz\nM 31.78125 74.21875 \nQ 44.046875 74.21875 50.515625 64.515625 \nQ 56.984375 54.828125 56.984375 36.375 \nQ 56.984375 17.96875 50.515625 8.265625 \nQ 44.046875 -1.421875 31.78125 -1.421875 \nQ 19.53125 -1.421875 13.0625 8.265625 \nQ 6.59375 17.96875 6.59375 36.375 \nQ 6.59375 54.828125 13.0625 64.515625 \nQ 19.53125 74.21875 31.78125 74.21875 \nz\n\" id=\"DejaVuSans-30\"/>\n       <path d=\"M 10.6875 12.40625 \nL 21 12.40625 \nL 21 0 \nL 10.6875 0 \nz\n\" id=\"DejaVuSans-2e\"/>\n      </defs>\n      <g transform=\"translate(27.524451 242.738437)scale(0.1 -0.1)\">\n       <use xlink:href=\"#DejaVuSans-30\"/>\n       <use x=\"63.623047\" xlink:href=\"#DejaVuSans-2e\"/>\n       <use x=\"95.410156\" xlink:href=\"#DejaVuSans-30\"/>\n      </g>\n     </g>\n    </g>\n    <g id=\"xtick_2\">\n     <g id=\"line2d_2\">\n      <g>\n       <use style=\"stroke:#000000;stroke-width:0.8;\" x=\"96.409674\" xlink:href=\"#m4c55763e4e\" y=\"228.14\"/>\n      </g>\n     </g>\n     <g id=\"text_2\">\n      <!-- 0.2 -->\n      <defs>\n       <path d=\"M 19.1875 8.296875 \nL 53.609375 8.296875 \nL 53.609375 0 \nL 7.328125 0 \nL 7.328125 8.296875 \nQ 12.9375 14.109375 22.625 23.890625 \nQ 32.328125 33.6875 34.8125 36.53125 \nQ 39.546875 41.84375 41.421875 45.53125 \nQ 43.3125 49.21875 43.3125 52.78125 \nQ 43.3125 58.59375 39.234375 62.25 \nQ 35.15625 65.921875 28.609375 65.921875 \nQ 23.96875 65.921875 18.8125 64.3125 \nQ 13.671875 62.703125 7.8125 59.421875 \nL 7.8125 69.390625 \nQ 13.765625 71.78125 18.9375 73 \nQ 24.125 74.21875 28.421875 74.21875 \nQ 39.75 74.21875 46.484375 68.546875 \nQ 53.21875 62.890625 53.21875 53.421875 \nQ 53.21875 48.921875 51.53125 44.890625 \nQ 49.859375 40.875 45.40625 35.40625 \nQ 44.1875 33.984375 37.640625 27.21875 \nQ 31.109375 20.453125 19.1875 8.296875 \nz\n\" id=\"DejaVuSans-32\"/>\n      </defs>\n      <g transform=\"translate(88.458112 242.738437)scale(0.1 -0.1)\">\n       <use xlink:href=\"#DejaVuSans-30\"/>\n       <use x=\"63.623047\" xlink:href=\"#DejaVuSans-2e\"/>\n       <use x=\"95.410156\" xlink:href=\"#DejaVuSans-32\"/>\n      </g>\n     </g>\n    </g>\n    <g id=\"xtick_3\">\n     <g id=\"line2d_3\">\n      <g>\n       <use style=\"stroke:#000000;stroke-width:0.8;\" x=\"157.343335\" xlink:href=\"#m4c55763e4e\" y=\"228.14\"/>\n      </g>\n     </g>\n     <g id=\"text_3\">\n      <!-- 0.4 -->\n      <defs>\n       <path d=\"M 37.796875 64.3125 \nL 12.890625 25.390625 \nL 37.796875 25.390625 \nz\nM 35.203125 72.90625 \nL 47.609375 72.90625 \nL 47.609375 25.390625 \nL 58.015625 25.390625 \nL 58.015625 17.1875 \nL 47.609375 17.1875 \nL 47.609375 0 \nL 37.796875 0 \nL 37.796875 17.1875 \nL 4.890625 17.1875 \nL 4.890625 26.703125 \nz\n\" id=\"DejaVuSans-34\"/>\n      </defs>\n      <g transform=\"translate(149.391773 242.738437)scale(0.1 -0.1)\">\n       <use xlink:href=\"#DejaVuSans-30\"/>\n       <use x=\"63.623047\" xlink:href=\"#DejaVuSans-2e\"/>\n       <use x=\"95.410156\" xlink:href=\"#DejaVuSans-34\"/>\n      </g>\n     </g>\n    </g>\n    <g id=\"xtick_4\">\n     <g id=\"line2d_4\">\n      <g>\n       <use style=\"stroke:#000000;stroke-width:0.8;\" x=\"218.276996\" xlink:href=\"#m4c55763e4e\" y=\"228.14\"/>\n      </g>\n     </g>\n     <g id=\"text_4\">\n      <!-- 0.6 -->\n      <defs>\n       <path d=\"M 33.015625 40.375 \nQ 26.375 40.375 22.484375 35.828125 \nQ 18.609375 31.296875 18.609375 23.390625 \nQ 18.609375 15.53125 22.484375 10.953125 \nQ 26.375 6.390625 33.015625 6.390625 \nQ 39.65625 6.390625 43.53125 10.953125 \nQ 47.40625 15.53125 47.40625 23.390625 \nQ 47.40625 31.296875 43.53125 35.828125 \nQ 39.65625 40.375 33.015625 40.375 \nz\nM 52.59375 71.296875 \nL 52.59375 62.3125 \nQ 48.875 64.0625 45.09375 64.984375 \nQ 41.3125 65.921875 37.59375 65.921875 \nQ 27.828125 65.921875 22.671875 59.328125 \nQ 17.53125 52.734375 16.796875 39.40625 \nQ 19.671875 43.65625 24.015625 45.921875 \nQ 28.375 48.1875 33.59375 48.1875 \nQ 44.578125 48.1875 50.953125 41.515625 \nQ 57.328125 34.859375 57.328125 23.390625 \nQ 57.328125 12.15625 50.6875 5.359375 \nQ 44.046875 -1.421875 33.015625 -1.421875 \nQ 20.359375 -1.421875 13.671875 8.265625 \nQ 6.984375 17.96875 6.984375 36.375 \nQ 6.984375 53.65625 15.1875 63.9375 \nQ 23.390625 74.21875 37.203125 74.21875 \nQ 40.921875 74.21875 44.703125 73.484375 \nQ 48.484375 72.75 52.59375 71.296875 \nz\n\" id=\"DejaVuSans-36\"/>\n      </defs>\n      <g transform=\"translate(210.325434 242.738437)scale(0.1 -0.1)\">\n       <use xlink:href=\"#DejaVuSans-30\"/>\n       <use x=\"63.623047\" xlink:href=\"#DejaVuSans-2e\"/>\n       <use x=\"95.410156\" xlink:href=\"#DejaVuSans-36\"/>\n      </g>\n     </g>\n    </g>\n    <g id=\"xtick_5\">\n     <g id=\"line2d_5\">\n      <g>\n       <use style=\"stroke:#000000;stroke-width:0.8;\" x=\"279.210657\" xlink:href=\"#m4c55763e4e\" y=\"228.14\"/>\n      </g>\n     </g>\n     <g id=\"text_5\">\n      <!-- 0.8 -->\n      <defs>\n       <path d=\"M 31.78125 34.625 \nQ 24.75 34.625 20.71875 30.859375 \nQ 16.703125 27.09375 16.703125 20.515625 \nQ 16.703125 13.921875 20.71875 10.15625 \nQ 24.75 6.390625 31.78125 6.390625 \nQ 38.8125 6.390625 42.859375 10.171875 \nQ 46.921875 13.96875 46.921875 20.515625 \nQ 46.921875 27.09375 42.890625 30.859375 \nQ 38.875 34.625 31.78125 34.625 \nz\nM 21.921875 38.8125 \nQ 15.578125 40.375 12.03125 44.71875 \nQ 8.5 49.078125 8.5 55.328125 \nQ 8.5 64.0625 14.71875 69.140625 \nQ 20.953125 74.21875 31.78125 74.21875 \nQ 42.671875 74.21875 48.875 69.140625 \nQ 55.078125 64.0625 55.078125 55.328125 \nQ 55.078125 49.078125 51.53125 44.71875 \nQ 48 40.375 41.703125 38.8125 \nQ 48.828125 37.15625 52.796875 32.3125 \nQ 56.78125 27.484375 56.78125 20.515625 \nQ 56.78125 9.90625 50.3125 4.234375 \nQ 43.84375 -1.421875 31.78125 -1.421875 \nQ 19.734375 -1.421875 13.25 4.234375 \nQ 6.78125 9.90625 6.78125 20.515625 \nQ 6.78125 27.484375 10.78125 32.3125 \nQ 14.796875 37.15625 21.921875 38.8125 \nz\nM 18.3125 54.390625 \nQ 18.3125 48.734375 21.84375 45.5625 \nQ 25.390625 42.390625 31.78125 42.390625 \nQ 38.140625 42.390625 41.71875 45.5625 \nQ 45.3125 48.734375 45.3125 54.390625 \nQ 45.3125 60.0625 41.71875 63.234375 \nQ 38.140625 66.40625 31.78125 66.40625 \nQ 25.390625 66.40625 21.84375 63.234375 \nQ 18.3125 60.0625 18.3125 54.390625 \nz\n\" id=\"DejaVuSans-38\"/>\n      </defs>\n      <g transform=\"translate(271.259095 242.738437)scale(0.1 -0.1)\">\n       <use xlink:href=\"#DejaVuSans-30\"/>\n       <use x=\"63.623047\" xlink:href=\"#DejaVuSans-2e\"/>\n       <use x=\"95.410156\" xlink:href=\"#DejaVuSans-38\"/>\n      </g>\n     </g>\n    </g>\n    <g id=\"xtick_6\">\n     <g id=\"line2d_6\">\n      <g>\n       <use style=\"stroke:#000000;stroke-width:0.8;\" x=\"340.144318\" xlink:href=\"#m4c55763e4e\" y=\"228.14\"/>\n      </g>\n     </g>\n     <g id=\"text_6\">\n      <!-- 1.0 -->\n      <defs>\n       <path d=\"M 12.40625 8.296875 \nL 28.515625 8.296875 \nL 28.515625 63.921875 \nL 10.984375 60.40625 \nL 10.984375 69.390625 \nL 28.421875 72.90625 \nL 38.28125 72.90625 \nL 38.28125 8.296875 \nL 54.390625 8.296875 \nL 54.390625 0 \nL 12.40625 0 \nz\n\" id=\"DejaVuSans-31\"/>\n      </defs>\n      <g transform=\"translate(332.192756 242.738437)scale(0.1 -0.1)\">\n       <use xlink:href=\"#DejaVuSans-31\"/>\n       <use x=\"63.623047\" xlink:href=\"#DejaVuSans-2e\"/>\n       <use x=\"95.410156\" xlink:href=\"#DejaVuSans-30\"/>\n      </g>\n     </g>\n    </g>\n   </g>\n   <g id=\"matplotlib.axis_2\">\n    <g id=\"ytick_1\">\n     <g id=\"line2d_7\">\n      <defs>\n       <path d=\"M 0 0 \nL -3.5 0 \n\" id=\"me31e663c27\" style=\"stroke:#000000;stroke-width:0.8;\"/>\n      </defs>\n      <g>\n       <use style=\"stroke:#000000;stroke-width:0.8;\" x=\"20.5625\" xlink:href=\"#me31e663c27\" y=\"218.256364\"/>\n      </g>\n     </g>\n     <g id=\"text_7\">\n      <!-- 0 -->\n      <g transform=\"translate(7.2 222.055582)scale(0.1 -0.1)\">\n       <use xlink:href=\"#DejaVuSans-30\"/>\n      </g>\n     </g>\n    </g>\n    <g id=\"ytick_2\">\n     <g id=\"line2d_8\">\n      <g>\n       <use style=\"stroke:#000000;stroke-width:0.8;\" x=\"20.5625\" xlink:href=\"#me31e663c27\" y=\"189.640306\"/>\n      </g>\n     </g>\n     <g id=\"text_8\">\n      <!-- 1 -->\n      <g transform=\"translate(7.2 193.439525)scale(0.1 -0.1)\">\n       <use xlink:href=\"#DejaVuSans-31\"/>\n      </g>\n     </g>\n    </g>\n    <g id=\"ytick_3\">\n     <g id=\"line2d_9\">\n      <g>\n       <use style=\"stroke:#000000;stroke-width:0.8;\" x=\"20.5625\" xlink:href=\"#me31e663c27\" y=\"161.024248\"/>\n      </g>\n     </g>\n     <g id=\"text_9\">\n      <!-- 2 -->\n      <g transform=\"translate(7.2 164.823467)scale(0.1 -0.1)\">\n       <use xlink:href=\"#DejaVuSans-32\"/>\n      </g>\n     </g>\n    </g>\n    <g id=\"ytick_4\">\n     <g id=\"line2d_10\">\n      <g>\n       <use style=\"stroke:#000000;stroke-width:0.8;\" x=\"20.5625\" xlink:href=\"#me31e663c27\" y=\"132.40819\"/>\n      </g>\n     </g>\n     <g id=\"text_10\">\n      <!-- 3 -->\n      <defs>\n       <path d=\"M 40.578125 39.3125 \nQ 47.65625 37.796875 51.625 33 \nQ 55.609375 28.21875 55.609375 21.1875 \nQ 55.609375 10.40625 48.1875 4.484375 \nQ 40.765625 -1.421875 27.09375 -1.421875 \nQ 22.515625 -1.421875 17.65625 -0.515625 \nQ 12.796875 0.390625 7.625 2.203125 \nL 7.625 11.71875 \nQ 11.71875 9.328125 16.59375 8.109375 \nQ 21.484375 6.890625 26.8125 6.890625 \nQ 36.078125 6.890625 40.9375 10.546875 \nQ 45.796875 14.203125 45.796875 21.1875 \nQ 45.796875 27.640625 41.28125 31.265625 \nQ 36.765625 34.90625 28.71875 34.90625 \nL 20.21875 34.90625 \nL 20.21875 43.015625 \nL 29.109375 43.015625 \nQ 36.375 43.015625 40.234375 45.921875 \nQ 44.09375 48.828125 44.09375 54.296875 \nQ 44.09375 59.90625 40.109375 62.90625 \nQ 36.140625 65.921875 28.71875 65.921875 \nQ 24.65625 65.921875 20.015625 65.03125 \nQ 15.375 64.15625 9.8125 62.3125 \nL 9.8125 71.09375 \nQ 15.4375 72.65625 20.34375 73.4375 \nQ 25.25 74.21875 29.59375 74.21875 \nQ 40.828125 74.21875 47.359375 69.109375 \nQ 53.90625 64.015625 53.90625 55.328125 \nQ 53.90625 49.265625 50.4375 45.09375 \nQ 46.96875 40.921875 40.578125 39.3125 \nz\n\" id=\"DejaVuSans-33\"/>\n      </defs>\n      <g transform=\"translate(7.2 136.207409)scale(0.1 -0.1)\">\n       <use xlink:href=\"#DejaVuSans-33\"/>\n      </g>\n     </g>\n    </g>\n    <g id=\"ytick_5\">\n     <g id=\"line2d_11\">\n      <g>\n       <use style=\"stroke:#000000;stroke-width:0.8;\" x=\"20.5625\" xlink:href=\"#me31e663c27\" y=\"103.792132\"/>\n      </g>\n     </g>\n     <g id=\"text_11\">\n      <!-- 4 -->\n      <g transform=\"translate(7.2 107.591351)scale(0.1 -0.1)\">\n       <use xlink:href=\"#DejaVuSans-34\"/>\n      </g>\n     </g>\n    </g>\n    <g id=\"ytick_6\">\n     <g id=\"line2d_12\">\n      <g>\n       <use style=\"stroke:#000000;stroke-width:0.8;\" x=\"20.5625\" xlink:href=\"#me31e663c27\" y=\"75.176074\"/>\n      </g>\n     </g>\n     <g id=\"text_12\">\n      <!-- 5 -->\n      <defs>\n       <path d=\"M 10.796875 72.90625 \nL 49.515625 72.90625 \nL 49.515625 64.59375 \nL 19.828125 64.59375 \nL 19.828125 46.734375 \nQ 21.96875 47.46875 24.109375 47.828125 \nQ 26.265625 48.1875 28.421875 48.1875 \nQ 40.625 48.1875 47.75 41.5 \nQ 54.890625 34.8125 54.890625 23.390625 \nQ 54.890625 11.625 47.5625 5.09375 \nQ 40.234375 -1.421875 26.90625 -1.421875 \nQ 22.3125 -1.421875 17.546875 -0.640625 \nQ 12.796875 0.140625 7.71875 1.703125 \nL 7.71875 11.625 \nQ 12.109375 9.234375 16.796875 8.0625 \nQ 21.484375 6.890625 26.703125 6.890625 \nQ 35.15625 6.890625 40.078125 11.328125 \nQ 45.015625 15.765625 45.015625 23.390625 \nQ 45.015625 31 40.078125 35.4375 \nQ 35.15625 39.890625 26.703125 39.890625 \nQ 22.75 39.890625 18.8125 39.015625 \nQ 14.890625 38.140625 10.796875 36.28125 \nz\n\" id=\"DejaVuSans-35\"/>\n      </defs>\n      <g transform=\"translate(7.2 78.975293)scale(0.1 -0.1)\">\n       <use xlink:href=\"#DejaVuSans-35\"/>\n      </g>\n     </g>\n    </g>\n    <g id=\"ytick_7\">\n     <g id=\"line2d_13\">\n      <g>\n       <use style=\"stroke:#000000;stroke-width:0.8;\" x=\"20.5625\" xlink:href=\"#me31e663c27\" y=\"46.560017\"/>\n      </g>\n     </g>\n     <g id=\"text_13\">\n      <!-- 6 -->\n      <g transform=\"translate(7.2 50.359235)scale(0.1 -0.1)\">\n       <use xlink:href=\"#DejaVuSans-36\"/>\n      </g>\n     </g>\n    </g>\n    <g id=\"ytick_8\">\n     <g id=\"line2d_14\">\n      <g>\n       <use style=\"stroke:#000000;stroke-width:0.8;\" x=\"20.5625\" xlink:href=\"#me31e663c27\" y=\"17.943959\"/>\n      </g>\n     </g>\n     <g id=\"text_14\">\n      <!-- 7 -->\n      <defs>\n       <path d=\"M 8.203125 72.90625 \nL 55.078125 72.90625 \nL 55.078125 68.703125 \nL 28.609375 0 \nL 18.3125 0 \nL 43.21875 64.59375 \nL 8.203125 64.59375 \nz\n\" id=\"DejaVuSans-37\"/>\n      </defs>\n      <g transform=\"translate(7.2 21.743178)scale(0.1 -0.1)\">\n       <use xlink:href=\"#DejaVuSans-37\"/>\n      </g>\n     </g>\n    </g>\n   </g>\n   <g id=\"line2d_15\">\n    <path clip-path=\"url(#p40eeb6f87f)\" d=\"M 35.780682 20.583636 \nL 36.08535 40.418776 \nL 36.694687 60.253916 \nL 37.304023 71.85673 \nL 37.91336 80.089056 \nL 38.827365 89.201948 \nL 39.74137 96.103062 \nL 40.960043 103.294683 \nL 42.178716 109.037088 \nL 43.39739 113.81752 \nL 44.920731 118.850818 \nL 46.444072 123.129823 \nL 48.272082 127.541009 \nL 50.100092 131.362149 \nL 52.23277 135.257717 \nL 54.365448 138.685958 \nL 56.802795 142.158825 \nL 59.240142 145.255473 \nL 61.982155 148.380326 \nL 65.02884 151.493833 \nL 68.075522 154.301579 \nL 71.426874 157.101826 \nL 75.082892 159.873282 \nL 79.043583 162.600688 \nL 83.308939 165.273462 \nL 87.878964 167.884638 \nL 93.058322 170.581776 \nL 98.542353 173.185027 \nL 104.635718 175.824323 \nL 111.338421 178.471389 \nL 118.345797 180.999596 \nL 125.962497 183.515808 \nL 134.493209 186.093915 \nL 143.633258 188.620501 \nL 153.687319 191.164113 \nL 164.655373 193.703161 \nL 176.537438 196.221191 \nL 189.333506 198.705963 \nL 203.348249 201.200608 \nL 218.581668 203.686202 \nL 235.338427 206.191992 \nL 253.618526 208.696451 \nL 273.421965 211.183043 \nL 295.053409 213.672965 \nL 318.817539 216.179677 \nL 340.144318 218.256364 \nL 340.144318 218.256364 \n\" style=\"fill:none;stroke:#1f77b4;stroke-linecap:square;stroke-width:1.5;\"/>\n   </g>\n   <g id=\"patch_3\">\n    <path d=\"M 20.5625 228.14 \nL 20.5625 10.7 \n\" style=\"fill:none;stroke:#000000;stroke-linecap:square;stroke-linejoin:miter;stroke-width:0.8;\"/>\n   </g>\n   <g id=\"patch_4\">\n    <path d=\"M 355.3625 228.14 \nL 355.3625 10.7 \n\" style=\"fill:none;stroke:#000000;stroke-linecap:square;stroke-linejoin:miter;stroke-width:0.8;\"/>\n   </g>\n   <g id=\"patch_5\">\n    <path d=\"M 20.5625 228.14 \nL 355.3625 228.14 \n\" style=\"fill:none;stroke:#000000;stroke-linecap:square;stroke-linejoin:miter;stroke-width:0.8;\"/>\n   </g>\n   <g id=\"patch_6\">\n    <path d=\"M 20.5625 10.7 \nL 355.3625 10.7 \n\" style=\"fill:none;stroke:#000000;stroke-linecap:square;stroke-linejoin:miter;stroke-width:0.8;\"/>\n   </g>\n  </g>\n </g>\n <defs>\n  <clipPath id=\"p40eeb6f87f\">\n   <rect height=\"217.44\" width=\"334.8\" x=\"20.5625\" y=\"10.7\"/>\n  </clipPath>\n </defs>\n</svg>\n",
      "image/png": "[encoded data removed]"
     },
     "metadata": {
      "needs_background": "light"
     }
    }
   ],
   "source": [
    "# torch.log\n",
    "a = torch.tensor([-1, 0, 1, 2.717, 10])\n",
    "print(torch.log(a))\n",
    "\n",
    "x = torch.range(0, 1, 0.001)\n",
    "plt.plot(x, -torch.log(x))\n"
   ]
  },
  {
   "cell_type": "code",
   "execution_count": 35,
   "metadata": {},
   "outputs": [
    {
     "output_type": "stream",
     "name": "stdout",
     "text": [
      "tensor([[0.5108],\n        [0.6931],\n        [0.1054],\n        [-0.0000]])\n"
     ]
    }
   ],
   "source": [
    "# cross entropy\n",
    "\n",
    "def cross_entropy(y_hat, y):\n",
    "    return - torch.log(y_hat.gather(1, y.view(-1, 1)))\n",
    "\n",
    "\n",
    "y_hat = torch.tensor([[0.6, 0.3, 0.1], [0.3, 0.2, 0.5], [0.03, 0.9, 0.07], [0.0, 1.0, 0.0]])\n",
    "y = torch.tensor([0, 2, 1, 1])\n",
    "\n",
    "print(cross_entropy(y_hat, y))\n"
   ]
  },
  {
   "cell_type": "code",
   "execution_count": 36,
   "metadata": {},
   "outputs": [
    {
     "output_type": "stream",
     "name": "stdout",
     "text": [
      "tensor([[0],\n        [2]])\ntensor([[0.1000],\n        [0.5000]])\n"
     ]
    }
   ],
   "source": [
    "# gather\n",
    "y_hat = torch.tensor([[0.1, 0.3, 0.6], [0.3, 0.2, 0.5]])\n",
    "y = torch.tensor([0, 2])\n",
    "print(y.view(-1, 1))\n",
    "\n",
    "# Tensor.gather(dim, index) [[[0.1, 0.3, 0.6][0]], [[0.3, 0.2, 0.5][2]]]\n",
    "y_g = y_hat.gather(1, y.view(-1, 1))\n",
    "print(y_g)"
   ]
  },
  {
   "cell_type": "code",
   "execution_count": 37,
   "metadata": {},
   "outputs": [
    {
     "output_type": "stream",
     "name": "stdout",
     "text": [
      "A.sum(dim=1, keepdim=True)\n tensor([[5, 7, 9]]) \n\nA.sum(dim=1, keepdim=True)\n tensor([[ 6],\n        [15]]) \n\nA.sum(dim=1)\n tensor([ 6, 15]) \n\nB.sum(2).equal(B.sum(-1)) \n True \n\nAEXP tensor([[  2.7183,   7.3891,  20.0855],\n        [ 54.5982, 148.4132, 403.4288]])\nASUM tensor([[ 30.1929],\n        [606.4401]])\nASMAX tensor([[0.0900, 0.2447, 0.6652],\n        [0.0900, 0.2447, 0.6652]])\n"
     ]
    }
   ],
   "source": [
    "# sum\n",
    "A = torch.tensor([[1, 2, 3], [4, 5, 6]])\n",
    "print('A.sum(dim=1, keepdim=True)\\n',A.sum(dim=0, keepdim=True), '\\n')\n",
    "print('A.sum(dim=1, keepdim=True)\\n', A.sum(dim=1, keepdim=True), '\\n')\n",
    "print('A.sum(dim=1)\\n', A.sum(dim=1), '\\n')\n",
    "\n",
    "B = torch.tensor([[[1, 2, 3], [2, 3, 4]], [[2,3,5], [2,3,1]], [[2,3,5], [1,3,5]]])\n",
    "\n",
    "# sum(-1) 代表最内层维度\n",
    "print('B.sum(2).equal(B.sum(-1)) \\n',B.sum(2).equal(B.sum(-1)), '\\n')\n",
    "\n",
    "AEXP = A.exp()\n",
    "ASUM = A.exp().sum(dim=1, keepdim=True)\n",
    "ASMAX = AEXP / ASUM\n",
    "print('AEXP', AEXP)\n",
    "print('ASUM', ASUM)\n",
    "print('ASMAX', ASMAX)"
   ]
  },
  {
   "cell_type": "code",
   "execution_count": 38,
   "metadata": {},
   "outputs": [
    {
     "output_type": "execute_result",
     "data": {
      "text/plain": [
       "['two', 'three', 'three', 'four', 'three', 'two', 'four']"
      ]
     },
     "metadata": {},
     "execution_count": 38
    }
   ],
   "source": [
    "# return for loop list\n",
    "def get_labels(indices):\n",
    "    labels = ['one', 'two', 'three', 'four']\n",
    "    return [labels[i] for i in indices]\n",
    "\n",
    "get_labels([1,2,2,3,2,1,3])"
   ]
  },
  {
   "cell_type": "code",
   "execution_count": 39,
   "metadata": {},
   "outputs": [
    {
     "output_type": "stream",
     "name": "stdout",
     "text": [
      "<zip object at 0x7fa235743608>\n[(1, 4), (2, 5), (3, 6)]\n"
     ]
    }
   ],
   "source": [
    "# zip: 函数用于将可迭代的对象作为参数，将对象中对应的元素打包成一个个元组，然后返回由这些元组组成的对象，这样做的好处是节约了不少的内存\n",
    "a = [1, 2, 3]\n",
    "b = [4, 5, 6]\n",
    "c = ['a', 'b', 'c']\n",
    "\n",
    "zipped = zip(a, b)\n",
    "print(zipped)\n",
    "print(list(zipped))"
   ]
  },
  {
   "cell_type": "code",
   "execution_count": 40,
   "metadata": {},
   "outputs": [
    {
     "output_type": "stream",
     "name": "stdout",
     "text": [
      "[1, 2, 5, 4, 6]\n[1, 2, 5, 4, 6, 7, 8, 9, 3, 0]\n"
     ]
    }
   ],
   "source": [
    "# random.shuffle\n",
    "indices = list(range(10))\n",
    "random.shuffle(indices)\n",
    "ind2 = indices[0:5]\n",
    "print(ind2)\n",
    "print(indices)"
   ]
  },
  {
   "cell_type": "code",
   "execution_count": 41,
   "metadata": {},
   "outputs": [
    {
     "output_type": "execute_result",
     "data": {
      "text/plain": [
       "array([[-0.01182459, -0.01605432],\n",
       "       [ 0.01190175,  0.00637104],\n",
       "       [ 0.00035111, -0.01955267],\n",
       "       [-0.00733082, -0.00359389],\n",
       "       [-0.00025187, -0.01746229]])"
      ]
     },
     "metadata": {},
     "execution_count": 41
    }
   ],
   "source": [
    "# np.random.normal\n",
    "np.random.normal(0, 0.01, (5,2))"
   ]
  },
  {
   "cell_type": "code",
   "execution_count": 42,
   "metadata": {},
   "outputs": [
    {
     "output_type": "stream",
     "name": "stdout",
     "text": [
      "True\n"
     ]
    }
   ],
   "source": [
    "# function\n",
    "def te_none(a):\n",
    "    print(a is None)\n",
    "\n",
    "te_none(None)"
   ]
  },
  {
   "cell_type": "code",
   "execution_count": 43,
   "metadata": {},
   "outputs": [
    {
     "output_type": "stream",
     "name": "stdout",
     "text": [
      "tensor([[0, 1, 2],\n        [3, 4, 5]])\ntensor([[1., 0., 0.],\n        [0., 0., 0.]])\ntensor([[0., 0., 0.],\n        [0., 0., 0.]])\n"
     ]
    }
   ],
   "source": [
    "# dropout\n",
    "a = torch.arange(6).view(2,3)\n",
    "print(a)\n",
    "\n",
    "drop = 0.5\n",
    "\n",
    "mask = (torch.rand(a.shape) < (1-drop)).float()\n",
    "print(mask)\n",
    "a = mask.mul(a) / (1-drop)\n",
    "print(a)"
   ]
  },
  {
   "cell_type": "code",
   "execution_count": 44,
   "metadata": {},
   "outputs": [
    {
     "output_type": "execute_result",
     "data": {
      "text/plain": [
       "tensor([1, 2, 3])"
      ]
     },
     "metadata": {},
     "execution_count": 44
    }
   ],
   "source": [
    "# .data\n",
    "w = torch.tensor([1,2,3])\n",
    "w.data"
   ]
  },
  {
   "cell_type": "code",
   "execution_count": 45,
   "metadata": {},
   "outputs": [
    {
     "output_type": "stream",
     "name": "stdout",
     "text": [
      "tensor([[1, 2, 3, 4],\n        [2, 3, 4, 5],\n        [2, 3, 5, 1]])\n[0, 1, 2]\n"
     ]
    }
   ],
   "source": [
    "# index_select\n",
    "# dim (int) – the dimension in which we index\n",
    "# index (IntTensor or LongTensor) – the 1-D tensor containing the indices to index\n",
    "\n",
    "a = torch.tensor([[1,2,3,4], [2,3,4,5], [3,4,5,6],[2,3,5,1]])\n",
    "b = a.index_select(0, torch.tensor([0,1,3]))\n",
    "print(b)\n",
    "\n",
    "c = [0,1,2,3,4,5]\n",
    "d = c[0:3]\n",
    "print(d)"
   ]
  },
  {
   "cell_type": "code",
   "execution_count": 46,
   "metadata": {},
   "outputs": [
    {
     "output_type": "stream",
     "name": "stdout",
     "text": [
      "[0, 1, 2, 3, 4]\n"
     ]
    }
   ],
   "source": [
    "# create indices list\n",
    "a = 10\n",
    "b = list(range(a))\n",
    "print(b[0:5])"
   ]
  },
  {
   "cell_type": "code",
   "execution_count": 47,
   "metadata": {},
   "outputs": [
    {
     "output_type": "stream",
     "name": "stdout",
     "text": [
      "3\n"
     ]
    }
   ],
   "source": [
    "# item\n",
    "a = torch.tensor([3])\n",
    "print(a.item())"
   ]
  },
  {
   "cell_type": "code",
   "execution_count": 48,
   "metadata": {},
   "outputs": [
    {
     "output_type": "stream",
     "name": "stdout",
     "text": [
      "accu 1.0\n"
     ]
    }
   ],
   "source": [
    "# 正确率\n",
    "y_hat = torch.tensor([[0.5, 0.2, 0.3], [0.1, 0.2, 0.7]])\n",
    "y = torch.tensor([0, 2])\n",
    "print('accu', (y_hat.argmax(dim=1) == y).sum().item() / y.shape[0])"
   ]
  },
  {
   "cell_type": "code",
   "execution_count": 49,
   "metadata": {},
   "outputs": [
    {
     "output_type": "stream",
     "name": "stdout",
     "text": [
      "tensor([[[3.3371e-02, 1.2026e-01, 2.5542e-01, 3.5712e-01],\n         [7.3754e-01, 5.8170e-01, 4.4511e-01, 7.8793e-01],\n         [4.9313e-01, 8.2410e-02, 1.4188e-01, 7.6566e-02]],\n\n        [[9.8942e-01, 4.0066e-01, 7.6646e-01, 4.0562e-01],\n         [6.3949e-01, 8.3416e-01, 8.6647e-01, 4.7695e-01],\n         [8.5930e-01, 3.0043e-01, 9.3859e-04, 2.9686e-02]]])\ntorch.Size([2, 3, 4])\n2\ntensor([[3.3371e-02, 1.2026e-01, 2.5542e-01, 3.5712e-01, 7.3754e-01, 5.8170e-01,\n         4.4511e-01, 7.8793e-01, 4.9313e-01, 8.2410e-02, 1.4188e-01, 7.6566e-02],\n        [9.8942e-01, 4.0066e-01, 7.6646e-01, 4.0562e-01, 6.3949e-01, 8.3416e-01,\n         8.6647e-01, 4.7695e-01, 8.5930e-01, 3.0043e-01, 9.3859e-04, 2.9686e-02]])\ntorch.Size([2, 12])\ntorch.Size([4])\ntensor([ True, False,  True,  True])\n"
     ]
    }
   ],
   "source": [
    "# shape\n",
    "a = torch.rand((2,3,4))\n",
    "print(a)\n",
    "print(a.shape)\n",
    "print(a.shape[0])\n",
    "\n",
    "b = a.view(a.shape[0], -1)\n",
    "print(b)\n",
    "print(b.shape)\n",
    "\n",
    "c = torch.tensor([3,4,5,6])\n",
    "d = torch.tensor([3,2,5,6])\n",
    "print(c.shape)\n",
    "print(c == d)"
   ]
  },
  {
   "cell_type": "code",
   "execution_count": 50,
   "metadata": {},
   "outputs": [
    {
     "output_type": "stream",
     "name": "stdout",
     "text": [
      "a.argmax(dim=0),  tensor([0, 1, 1])\na.argmax(dim=1) tensor([0, 2])\n"
     ]
    }
   ],
   "source": [
    "# argmax\n",
    "a = torch.tensor([\n",
    "    [9,2,1], \n",
    "    [4,5,8]])\n",
    "\n",
    "print('a.argmax(dim=0), ', a.argmax(dim=0))\n",
    "\n",
    "print('a.argmax(dim=1)', a.argmax(dim=1))\n"
   ]
  },
  {
   "cell_type": "code",
   "execution_count": 10,
   "metadata": {},
   "outputs": [
    {
     "output_type": "stream",
     "name": "stdout",
     "text": [
      "Linear(in_features=3, out_features=4, bias=True)\n",
      "Linear(in_features=4, out_features=5, bias=True) \n",
      "\n",
      "tensor([[107.2869, 131.8388, 100.7577, 108.4349, 108.2134],\n",
      "        [ 98.8282,  94.3752,  99.5952, 102.5364,  95.6727],\n",
      "        [ 79.5264, 109.0457, 104.0702,  96.8401, 106.6898]])\n",
      "parameters ----\n",
      "Parameter containing:\n",
      "tensor([[ 0.3836,  0.5658, -0.1112],\n",
      "        [-0.5445,  0.3475, -0.0017],\n",
      "        [ 0.4988, -0.1029, -0.4215],\n",
      "        [ 0.0107,  0.1043,  0.0869]], requires_grad=True)\n",
      "Parameter containing:\n",
      "tensor([-0.4313, -0.0644, -0.4330,  0.3538], requires_grad=True)\n",
      "Parameter containing:\n",
      "tensor([[ 0.2369,  0.2313,  0.0723,  0.4922],\n",
      "        [ 0.0355,  0.3328,  0.1367, -0.4490],\n",
      "        [ 0.4279,  0.4293, -0.3621,  0.3877],\n",
      "        [-0.4180, -0.3217, -0.2471, -0.4196],\n",
      "        [ 0.2387, -0.0290,  0.2865, -0.0016]], requires_grad=True)\n",
      "Parameter containing:\n",
      "tensor([ 0.1869, -0.0579, -0.0335,  0.2653,  0.3303], requires_grad=True)\n",
      "ipykernel_launcher:10: UserWarning: nn.init.normal is now deprecated in favor of nn.init.normal_.\n"
     ]
    }
   ],
   "source": [
    "# net.parametes()\n",
    "import torch\n",
    "l1 = torch.nn.Linear(3,4, bias=True)\n",
    "l2 = torch.nn.Linear(4,5, bias=True)\n",
    "net = torch.nn.Sequential(l1, l2)\n",
    "print(l1)\n",
    "print(l2, '\\n')\n",
    "\n",
    "w = torch.empty(3, 5)\n",
    "torch.nn.init.normal(w, mean=100, std=10)\n",
    "print(w)\n",
    "\n",
    "print('parameters ----')\n",
    "\n",
    "# 因为有 weight, bias 所以有 4 个参数层\n",
    "for p in net.parameters():\n",
    "    print(p)\n"
   ]
  },
  {
   "cell_type": "code",
   "execution_count": 52,
   "metadata": {},
   "outputs": [
    {
     "output_type": "stream",
     "name": "stdout",
     "text": [
      "tensor([-3.1416, -3.1384, -3.1353,  ...,  3.1353,  3.1384,  3.1416])\n"
     ]
    }
   ],
   "source": [
    "# torch.linspace\n",
    "import math\n",
    "x = torch.linspace(-math.pi, math.pi, 2000)\n",
    "print(x)\n"
   ]
  },
  {
   "cell_type": "code",
   "execution_count": 53,
   "metadata": {},
   "outputs": [
    {
     "output_type": "stream",
     "name": "stdout",
     "text": [
      "True \n -----\nFalse\nNone\nFalse\n"
     ]
    }
   ],
   "source": [
    "# with torch.no_grad() 子树不记录梯度\n",
    "x = torch.randn(10, 5, requires_grad = True)\n",
    "y = torch.randn(10, 5, requires_grad = True)\n",
    "z = torch.randn(10, 5, requires_grad = True)\n",
    "\n",
    "n = x + y + z\n",
    "print(n.requires_grad, '\\n -----')\n",
    "\n",
    "with torch.no_grad():\n",
    "    w = x + y + z\n",
    "    print(w.requires_grad)\n",
    "    print(w.grad_fn)\n",
    "print(w.requires_grad)"
   ]
  },
  {
   "cell_type": "code",
   "execution_count": 55,
   "metadata": {},
   "outputs": [
    {
     "output_type": "stream",
     "name": "stdout",
     "text": [
      "tensor([[ 1,  8, 27],\n        [ 8, 27, 64]])\n"
     ]
    }
   ],
   "source": [
    "# pow 次方\n",
    "a = torch.tensor([[1,2,3], [2,3,4]])\n",
    "print(a.pow(3))\n"
   ]
  },
  {
   "cell_type": "code",
   "execution_count": 55,
   "metadata": {},
   "outputs": [
    {
     "output_type": "stream",
     "name": "stdout",
     "text": [
      "True\nTrue\n---\nTrue\nFalse\n---\nTrue\nFalse\nFalse\n"
     ]
    }
   ],
   "source": [
    "# is vs ==\n",
    "a = 1\n",
    "b = 1\n",
    "print(a==b)\n",
    "print(a is b)\n",
    "print('---')\n",
    "\n",
    "\n",
    "a = 2.0\n",
    "b = 2.0\n",
    "print(a == b)\n",
    "print(a is b)\n",
    "print('---')\n",
    "\n",
    "a = {'value': 1}\n",
    "b = {'value': 1}\n",
    "print(a == b)\n",
    "print(a is b)\n",
    "print(id(a) == id(b))"
   ]
  },
  {
   "cell_type": "code",
   "execution_count": 56,
   "metadata": {},
   "outputs": [
    {
     "output_type": "stream",
     "name": "stdout",
     "text": [
      "squeeze 0 tensor([[1, 2, 3, 4, 5]])\nsqueeze 1 tensor([[1],\n        [2],\n        [3],\n        [4],\n        [5]])\n"
     ]
    }
   ],
   "source": [
    "# unsequeeze 膨胀\n",
    "\n",
    "a = torch.tensor([1,2,3,4,5])\n",
    "b = torch.tensor([1,2,3])\n",
    "\n",
    "print('squeeze 0', a.unsqueeze(0))\n",
    "print('squeeze 1', a.unsqueeze(1))\n",
    "\n"
   ]
  },
  {
   "cell_type": "code",
   "execution_count": 57,
   "metadata": {},
   "outputs": [
    {
     "output_type": "stream",
     "name": "stdout",
     "text": [
      "Parameter containing:\ntensor([ 0.2118, -0.0729], requires_grad=True) Parameter containing:\ntensor([[ 0.4899,  0.4989,  0.4731],\n        [-0.2325, -0.5317, -0.2049]], requires_grad=True)\noutput tensor([[ 3.1186, -1.9836],\n        [ 5.6286, -4.0987],\n        [ 4.5636, -2.9252],\n        [ 0.2286, -0.1004],\n        [ 3.7003, -2.0821]], grad_fn=<AddmmBackward>)\n"
     ]
    }
   ],
   "source": [
    "# nn.Linear\n",
    "\n",
    "\n",
    "m = torch.nn.Linear(3, 2, bias=True) # 创建 Linear 层时会随机初始化 w, b\n",
    "\n",
    "# 5 x 3 矩阵\n",
    "input = torch.tensor([\n",
    "        [1,  2,  3],\n",
    "        [5, 5,  1],\n",
    "        [1,  3, 5],\n",
    "        [ 1,  0, -1],\n",
    "        [ 9, 1, -3]], dtype=torch.float32)\n",
    "\n",
    "print(m.bias, m.weight)\n",
    "\n",
    "print('output', m(input))"
   ]
  },
  {
   "cell_type": "code",
   "execution_count": 58,
   "metadata": {},
   "outputs": [
    {
     "output_type": "stream",
     "name": "stdout",
     "text": [
      "tensor([[3, 2, 3, 4, 5, 3]])\ntensor([3, 2, 3, 4, 5, 3])\ntensor([[3, 2, 3, 4, 5, 3]])\ntensor([[[3, 2, 3],\n         [4, 5, 3]]])\n"
     ]
    }
   ],
   "source": [
    "# nn.Flatten\n",
    "\n",
    "m0 = torch.nn.Flatten(0)\n",
    "m1 = torch.nn.Flatten(1)\n",
    "m2 = torch.nn.Flatten(2)\n",
    "m3 = torch.nn.Flatten(3)\n",
    "\n",
    "t = torch.tensor([[[3,2,3], [4,5,3]]])\n",
    "\n",
    "class Flatten(nn.Module):\n",
    "    def __init__(self, dim=0):\n",
    "        super().__init__()\n",
    "        self.dim = dim\n",
    "\n",
    "    def forward(self, X):\n",
    "        return X.view(X.shape[self.dim], -1)\n",
    "\n",
    "print(Flatten(0)(t))\n",
    "\n",
    "\n",
    "print(m0(t))\n",
    "print(m1(t))\n",
    "print(m2(t))"
   ]
  },
  {
   "cell_type": "code",
   "execution_count": null,
   "metadata": {},
   "outputs": [],
   "source": []
  }
 ]
}