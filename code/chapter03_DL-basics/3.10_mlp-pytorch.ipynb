{
 "cells": [
  {
   "cell_type": "markdown",
   "metadata": {},
   "source": [
    "# 3.10 多层感知机的简洁实现"
   ]
  },
  {
   "cell_type": "code",
   "execution_count": 1,
   "metadata": {},
   "outputs": [
    {
     "output_type": "stream",
     "name": "stdout",
     "text": [
      "1.8.1\n"
     ]
    }
   ],
   "source": [
    "import torch\n",
    "from torch import nn\n",
    "from torch.nn import init\n",
    "import numpy as np\n",
    "import sys\n",
    "sys.path.append(\"..\") \n",
    "import d2lzh_pytorch as d2l\n",
    "\n",
    "print(torch.__version__)"
   ]
  },
  {
   "cell_type": "markdown",
   "metadata": {},
   "source": [
    "## 3.10.1 定义模型"
   ]
  },
  {
   "cell_type": "code",
   "execution_count": 2,
   "metadata": {
    "collapsed": true
   },
   "outputs": [],
   "source": [
    "num_inputs, num_outputs, num_hiddens = 784, 10, 256\n",
    "    \n",
    "net = nn.Sequential(\n",
    "        d2l.FlattenLayer(),\n",
    "        nn.Linear(num_inputs, num_hiddens),\n",
    "        nn.ReLU(),\n",
    "        nn.Linear(num_hiddens, num_outputs), \n",
    "        )\n",
    "    \n",
    "for params in net.parameters():\n",
    "    init.normal_(params, mean=0, std=0.01)"
   ]
  },
  {
   "cell_type": "markdown",
   "metadata": {},
   "source": [
    "## 3.10.2 读取数据并训练模型"
   ]
  },
  {
   "cell_type": "code",
   "execution_count": 5,
   "metadata": {},
   "outputs": [
    {
     "output_type": "stream",
     "name": "stdout",
     "text": [
      "epoch 1, loss 0.0010, train acc 0.910, test acc 0.885\n",
      "epoch 2, loss 0.0010, train acc 0.909, test acc 0.885\n",
      "epoch 3, loss 0.0010, train acc 0.910, test acc 0.886\n",
      "epoch 4, loss 0.0010, train acc 0.910, test acc 0.885\n",
      "epoch 5, loss 0.0010, train acc 0.910, test acc 0.887\n",
      "epoch 6, loss 0.0010, train acc 0.910, test acc 0.886\n",
      "epoch 7, loss 0.0010, train acc 0.911, test acc 0.886\n",
      "epoch 8, loss 0.0010, train acc 0.911, test acc 0.885\n",
      "epoch 9, loss 0.0010, train acc 0.910, test acc 0.887\n",
      "epoch 10, loss 0.0010, train acc 0.911, test acc 0.887\n",
      "epoch 11, loss 0.0010, train acc 0.911, test acc 0.887\n",
      "epoch 12, loss 0.0010, train acc 0.911, test acc 0.887\n",
      "epoch 13, loss 0.0010, train acc 0.911, test acc 0.886\n",
      "epoch 14, loss 0.0010, train acc 0.911, test acc 0.887\n",
      "epoch 15, loss 0.0010, train acc 0.911, test acc 0.887\n",
      "epoch 16, loss 0.0010, train acc 0.912, test acc 0.886\n",
      "epoch 17, loss 0.0010, train acc 0.912, test acc 0.886\n",
      "epoch 18, loss 0.0010, train acc 0.912, test acc 0.885\n",
      "epoch 19, loss 0.0010, train acc 0.912, test acc 0.887\n",
      "epoch 20, loss 0.0010, train acc 0.912, test acc 0.887\n"
     ]
    }
   ],
   "source": [
    "batch_size = 256\n",
    "train_iter, test_iter = d2l.load_data_fashion_mnist(batch_size)\n",
    "loss = torch.nn.CrossEntropyLoss()\n",
    "\n",
    "optimizer = torch.optim.SGD(net.parameters(), lr=0.01)\n",
    "\n",
    "num_epochs = 20\n",
    "d2l.train_ch3(net, train_iter, test_iter, loss, num_epochs, batch_size, None, None, optimizer)"
   ]
  },
  {
   "cell_type": "code",
   "execution_count": null,
   "metadata": {
    "collapsed": true
   },
   "outputs": [],
   "source": []
  }
 ],
 "metadata": {
  "kernelspec": {
   "name": "python3613jvsc74a57bd06a7cafeaeb3fd68df71f631e022add281d537fd7827e106ecab671299a698970",
   "display_name": "Python 3.6.13 64-bit ('pytorch': conda)"
  },
  "language_info": {
   "codemirror_mode": {
    "name": "ipython",
    "version": 3
   },
   "file_extension": ".py",
   "mimetype": "text/x-python",
   "name": "python",
   "nbconvert_exporter": "python",
   "pygments_lexer": "ipython3",
   "version": "3.6.13"
  }
 },
 "nbformat": 4,
 "nbformat_minor": 2
}