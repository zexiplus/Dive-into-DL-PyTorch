{
 "cells": [
  {
   "cell_type": "markdown",
   "metadata": {},
   "source": [
    "# 3.7 softmax回归的简洁实现"
   ]
  },
  {
   "cell_type": "code",
   "execution_count": 1,
   "metadata": {},
   "outputs": [
    {
     "output_type": "stream",
     "name": "stdout",
     "text": [
      "1.8.1\n"
     ]
    }
   ],
   "source": [
    "import torch\n",
    "from torch import nn\n",
    "from torch.nn import init\n",
    "import numpy as np\n",
    "import sys\n",
    "sys.path.append(\"..\") \n",
    "import d2lzh_pytorch as d2l\n",
    "from collections import OrderedDict\n",
    "\n",
    "print(torch.__version__)"
   ]
  },
  {
   "cell_type": "markdown",
   "metadata": {},
   "source": [
    "## 3.7.1 获取和读取数据"
   ]
  },
  {
   "cell_type": "code",
   "execution_count": 2,
   "metadata": {
    "collapsed": true
   },
   "outputs": [
    {
     "output_type": "stream",
     "name": "stdout",
     "text": [
      "len(mnist_train) 60000\n",
      "len(mnist_test) 10000\n",
      "torch.Size([250, 1, 28, 28])\n",
      "<torch.utils.data.dataloader.DataLoader object at 0x7f8b07f50550>\n"
     ]
    }
   ],
   "source": [
    "batch_size = 250\n",
    "train_iter, test_iter = d2l.load_data_fashion_mnist(batch_size)\n",
    "for X, y in train_iter:\n",
    "    print(X.shape)\n",
    "    break\n",
    "print(train_iter)"
   ]
  },
  {
   "cell_type": "code",
   "execution_count": 3,
   "metadata": {},
   "outputs": [
    {
     "output_type": "stream",
     "name": "stdout",
     "text": [
      "Sequential(\n  (flatten): FlattenLayer()\n  (linear): Linear(in_features=784, out_features=10, bias=True)\n) \n\n<generator object Module.parameters at 0x7f8b07f5f8e0> \n\nFlattenLayer() \n\nLinear(in_features=784, out_features=10, bias=True) \n\n"
     ]
    }
   ],
   "source": [
    "# 28 x 28\n",
    "num_inputs = 784\n",
    "num_outputs = 10\n",
    "\n",
    "class FlattenLayer(nn.Module):\n",
    "    def __init__(self):\n",
    "        # python2 写法 super(FlattenLayer, self).__init__()\n",
    "        super().__init__()\n",
    "    def forward(self, x): # x shape: (batch, *, *, ...)\n",
    "        # print('x.shape', x.shape) torch.size([250, 1, 28, 28])\n",
    "        # x.shape[0] == 250, x.shape[1] == 1, x.shape[2] == 28, x.shape[3] == 28\n",
    "        # x 为 250 张 单通道的 28 x 28 像素的 tensor\n",
    "        # 返回 size 为 250 x 784 的 tensor\n",
    "        return x.view(x.shape[0], -1)\n",
    "\n",
    "\n",
    "net = nn.Sequential(\n",
    "        # FlattenLayer(),\n",
    "        # nn.Linear(num_inputs, num_outputs)\n",
    "        OrderedDict([\n",
    "          ('flatten', FlattenLayer()),\n",
    "          ('linear', nn.Linear(num_inputs, num_outputs))])\n",
    "        )\n",
    "print(net, '\\n')\n",
    "print(net.parameters(), '\\n')\n",
    "print(net.flatten, '\\n')\n",
    "print(net.linear, '\\n')\n"
   ]
  },
  {
   "cell_type": "code",
   "execution_count": 4,
   "metadata": {},
   "outputs": [
    {
     "output_type": "stream",
     "name": "stdout",
     "text": [
      "Linear(in_features=784, out_features=10, bias=True)\n"
     ]
    }
   ],
   "source": [
    "# 初始化 linear 层权重与偏差\n",
    "init.normal_(net.linear.weight, mean=0, std=0.01)\n",
    "init.constant_(net.linear.bias, val=0)\n",
    "print(net.linear)"
   ]
  },
  {
   "cell_type": "markdown",
   "metadata": {},
   "source": [
    "## 3.7.3 softmax和交叉熵损失函数"
   ]
  },
  {
   "cell_type": "code",
   "execution_count": 5,
   "metadata": {
    "collapsed": true
   },
   "outputs": [],
   "source": [
    "# 交叉熵损失函数\n",
    "loss = nn.CrossEntropyLoss()"
   ]
  },
  {
   "cell_type": "markdown",
   "metadata": {},
   "source": [
    "## 3.7.4 定义优化算法"
   ]
  },
  {
   "cell_type": "code",
   "execution_count": 6,
   "metadata": {
    "collapsed": true
   },
   "outputs": [],
   "source": [
    "# 随机梯度下降算法优化器\n",
    "optimizer = torch.optim.SGD(net.parameters(), lr=0.02)"
   ]
  },
  {
   "cell_type": "markdown",
   "metadata": {},
   "source": [
    "## 3.7.5 训练模型"
   ]
  },
  {
   "cell_type": "code",
   "execution_count": 7,
   "metadata": {
    "tags": []
   },
   "outputs": [
    {
     "output_type": "stream",
     "name": "stdout",
     "text": [
      "epoch 1, loss 0.0046, train acc 0.674, test acc 0.718\n",
      "epoch 2, loss 0.0031, train acc 0.760, test acc 0.759\n",
      "epoch 3, loss 0.0027, train acc 0.784, test acc 0.780\n",
      "epoch 4, loss 0.0026, train acc 0.797, test acc 0.790\n",
      "epoch 5, loss 0.0024, train acc 0.805, test acc 0.797\n",
      "epoch 6, loss 0.0024, train acc 0.811, test acc 0.803\n",
      "epoch 7, loss 0.0023, train acc 0.816, test acc 0.806\n",
      "epoch 8, loss 0.0022, train acc 0.819, test acc 0.809\n",
      "epoch 9, loss 0.0022, train acc 0.822, test acc 0.811\n",
      "epoch 10, loss 0.0022, train acc 0.825, test acc 0.814\n"
     ]
    }
   ],
   "source": [
    "def train_ch3(net, train_iter, test_iter, loss, num_epochs, batch_size,\n",
    "              params=None, lr=None, optimizer=None):\n",
    "    for epoch in range(num_epochs):\n",
    "        # 初始化训练损失， 训练精度\n",
    "        train_l_sum, train_acc_sum, n = 0.0, 0.0, 0\n",
    "\n",
    "\n",
    "        # 遍历训练迭代器中的样本与标签, 循环次数 = 样本总数 / batch_size\n",
    "        for X, y in train_iter:\n",
    "            # y_hat 预测值\n",
    "            y_hat = net(X)\n",
    "            # torch.Size([250, 10])\n",
    "            # print('y_hat.shape', y_hat.shape)\n",
    "            # y.shape torch.Size([250])\n",
    "            # print('y.shape', y.shape)\n",
    "\n",
    "\n",
    "\n",
    "            # 计算损失\n",
    "            l = loss(y_hat, y).sum()\n",
    "            # print(l)\n",
    "            # print(l.item())\n",
    "            \n",
    "            # 梯度清零\n",
    "            if optimizer is not None:\n",
    "                optimizer.zero_grad()\n",
    "            elif params is not None and params[0].grad is not None:\n",
    "                for param in params:\n",
    "                    param.grad.data.zero_()\n",
    "\n",
    "            # 反向传播更新权重\n",
    "            l.backward()\n",
    "\n",
    "            if optimizer is None:\n",
    "                sgd(params, lr, batch_size)\n",
    "            else:\n",
    "                optimizer.step()  # 启动优化算法\n",
    "            \n",
    "            # 训练损失总和标量 eg. l: tensor(0.5213, grad_fn=<SumBackward0>) l.item(): 0.5213115215301514\n",
    "            train_l_sum += l.item() \n",
    "\n",
    "            train_acc_sum += (y_hat.argmax(dim=1) == y).sum().item()\n",
    "            n += y.shape[0]\n",
    "        test_acc = evaluate_accuracy(test_iter, net)\n",
    "        print('epoch %d, loss %.4f, train acc %.3f, test acc %.3f'\n",
    "              % (epoch + 1, train_l_sum / n, train_acc_sum / n, test_acc))\n",
    "\n",
    "def evaluate_accuracy(data_iter, net, device=None):\n",
    "    if device is None and isinstance(net, torch.nn.Module):\n",
    "        # 如果没指定 device 就使用 net 的 device\n",
    "        device = list(net.parameters())[0].device \n",
    "    acc_sum, n = 0.0, 0\n",
    "    with torch.no_grad():\n",
    "        for X, y in data_iter:\n",
    "            if isinstance(net, torch.nn.Module):\n",
    "                net.eval() # 评估模式, 这会关闭 dropout\n",
    "                acc_sum += (net(X.to(device)).argmax(dim=1) == y.to(device)).float().sum().cpu().item()\n",
    "                net.train() # 改回训练模式\n",
    "            else: # 自定义的模型, 3.13节之后不会用到, 不考虑GPU\n",
    "                if('is_training' in net.__code__.co_varnames): # 如果有is_training这个参数\n",
    "                    # 将is_training设置成False\n",
    "                    acc_sum += (net(X, is_training=False).argmax(dim=1) == y).float().sum().item() \n",
    "                else:\n",
    "                    acc_sum += (net(X).argmax(dim=1) == y).float().sum().item() \n",
    "            n += y.shape[0]\n",
    "    return acc_sum / n\n",
    "\n",
    "\n",
    "\n",
    "num_epochs = 10\n",
    "\n",
    "train_ch3(net, train_iter, test_iter, loss, num_epochs, batch_size, None, None, optimizer)"
   ]
  },
  {
   "cell_type": "code",
   "execution_count": null,
   "metadata": {},
   "outputs": [],
   "source": []
  }
 ],
 "metadata": {
  "kernelspec": {
   "name": "python3613jvsc74a57bd06a7cafeaeb3fd68df71f631e022add281d537fd7827e106ecab671299a698970",
   "display_name": "Python 3.6.13 64-bit ('pytorch': conda)"
  },
  "language_info": {
   "codemirror_mode": {
    "name": "ipython",
    "version": 3
   },
   "file_extension": ".py",
   "mimetype": "text/x-python",
   "name": "python",
   "nbconvert_exporter": "python",
   "pygments_lexer": "ipython3",
   "version": "3.6.13"
  }
 },
 "nbformat": 4,
 "nbformat_minor": 2
}