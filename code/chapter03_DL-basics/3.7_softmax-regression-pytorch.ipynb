{
 "cells": [
  {
   "cell_type": "markdown",
   "metadata": {},
   "source": [
    "# 3.7 softmax回归的简洁实现"
   ]
  },
  {
   "cell_type": "code",
   "execution_count": 2,
   "metadata": {},
   "outputs": [
    {
     "output_type": "stream",
     "name": "stdout",
     "text": [
      "1.8.1\n"
     ]
    }
   ],
   "source": [
    "import torch\n",
    "from torch import nn\n",
    "from torch.nn import init\n",
    "import numpy as np\n",
    "import sys\n",
    "sys.path.append(\"..\") \n",
    "import d2lzh_pytorch as d2l\n",
    "from collections import OrderedDict\n",
    "\n",
    "print(torch.__version__)"
   ]
  },
  {
   "cell_type": "markdown",
   "metadata": {},
   "source": [
    "## 3.7.1 获取和读取数据"
   ]
  },
  {
   "cell_type": "code",
   "execution_count": 3,
   "metadata": {
    "collapsed": true
   },
   "outputs": [
    {
     "output_type": "stream",
     "name": "stdout",
     "text": [
      "<torch.utils.data.dataloader.DataLoader object at 0x7fc23e785470>\n"
     ]
    }
   ],
   "source": [
    "batch_size = 256\n",
    "train_iter, test_iter = d2l.load_data_fashion_mnist(batch_size)\n",
    "print(train_iter)"
   ]
  },
  {
   "cell_type": "markdown",
   "metadata": {},
   "source": [
    "## 3.7.2 定义和初始化模型"
   ]
  },
  {
   "cell_type": "code",
   "execution_count": 4,
   "metadata": {},
   "outputs": [
    {
     "output_type": "stream",
     "name": "stdout",
     "text": [
      "Sequential(\n  (flatten): FlattenLayer()\n  (linear): Linear(in_features=784, out_features=10, bias=True)\n) \n\n<generator object Module.parameters at 0x7fc23e776e60> \n\nFlattenLayer() \n\nLinear(in_features=784, out_features=10, bias=True) \n\n"
     ]
    }
   ],
   "source": [
    "# 28 x 28\n",
    "num_inputs = 784\n",
    "num_outputs = 10\n",
    "\n",
    "class FlattenLayer(nn.Module):\n",
    "    def __init__(self):\n",
    "        # python2 写法 super(FlattenLayer, self).__init__()\n",
    "        super().__init__()\n",
    "    def forward(self, x): # x shape: (batch, *, *, ...)\n",
    "        # print('x.shape', x.shape) torch.size([256, 1, 28, 28])\n",
    "        # x.shape[0] == 256, x.shape[1] == 1, x.shape[2] == 28, x.shape[3] == 28\n",
    "        # x 为 256 张 单通道的 28 x 28 像素的 tensor\n",
    "        # 返回 size 为 256 x 784 的 tensor\n",
    "        return x.view(x.shape[0], -1)\n",
    "\n",
    "\n",
    "net = nn.Sequential(\n",
    "        # FlattenLayer(),\n",
    "        # nn.Linear(num_inputs, num_outputs)\n",
    "        OrderedDict([\n",
    "          ('flatten', FlattenLayer()),\n",
    "          ('linear', nn.Linear(num_inputs, num_outputs))])\n",
    "        )\n",
    "print(net, '\\n')\n",
    "print(net.parameters(), '\\n')\n",
    "print(net.flatten, '\\n')\n",
    "print(net.linear, '\\n')\n"
   ]
  },
  {
   "cell_type": "code",
   "execution_count": 5,
   "metadata": {},
   "outputs": [
    {
     "output_type": "stream",
     "name": "stdout",
     "text": [
      "Linear(in_features=784, out_features=10, bias=True)\n"
     ]
    }
   ],
   "source": [
    "# 初始化 linear 层权重与偏差\n",
    "init.normal_(net.linear.weight, mean=0, std=0.01)\n",
    "init.constant_(net.linear.bias, val=0)\n",
    "print(net.linear)"
   ]
  },
  {
   "cell_type": "markdown",
   "metadata": {},
   "source": [
    "## 3.7.3 softmax和交叉熵损失函数"
   ]
  },
  {
   "cell_type": "code",
   "execution_count": 6,
   "metadata": {
    "collapsed": true
   },
   "outputs": [],
   "source": [
    "# 交叉熵损失函数\n",
    "loss = nn.CrossEntropyLoss()"
   ]
  },
  {
   "cell_type": "markdown",
   "metadata": {},
   "source": [
    "## 3.7.4 定义优化算法"
   ]
  },
  {
   "cell_type": "code",
   "execution_count": 7,
   "metadata": {
    "collapsed": true
   },
   "outputs": [],
   "source": [
    "# 随机梯度下降算法优化器\n",
    "optimizer = torch.optim.SGD(net.parameters(), lr=0.02)"
   ]
  },
  {
   "cell_type": "markdown",
   "metadata": {},
   "source": [
    "## 3.7.5 训练模型"
   ]
  },
  {
   "cell_type": "code",
   "execution_count": 10,
   "metadata": {
    "tags": []
   },
   "outputs": [
    {
     "output_type": "stream",
     "name": "stdout",
     "text": [
      "epoch 1, loss 0.0021, train acc 0.827, test acc 0.814\n",
      "epoch 2, loss 0.0021, train acc 0.828, test acc 0.813\n",
      "epoch 3, loss 0.0021, train acc 0.828, test acc 0.817\n",
      "epoch 4, loss 0.0020, train acc 0.829, test acc 0.816\n",
      "epoch 5, loss 0.0020, train acc 0.830, test acc 0.817\n",
      "epoch 6, loss 0.0020, train acc 0.830, test acc 0.818\n",
      "epoch 7, loss 0.0020, train acc 0.831, test acc 0.818\n",
      "epoch 8, loss 0.0020, train acc 0.832, test acc 0.818\n",
      "epoch 9, loss 0.0020, train acc 0.833, test acc 0.820\n",
      "epoch 10, loss 0.0020, train acc 0.834, test acc 0.820\n",
      "epoch 11, loss 0.0020, train acc 0.834, test acc 0.820\n",
      "epoch 12, loss 0.0020, train acc 0.835, test acc 0.822\n",
      "epoch 13, loss 0.0020, train acc 0.834, test acc 0.823\n",
      "epoch 14, loss 0.0019, train acc 0.835, test acc 0.823\n",
      "epoch 15, loss 0.0019, train acc 0.836, test acc 0.823\n",
      "epoch 16, loss 0.0019, train acc 0.836, test acc 0.824\n",
      "epoch 17, loss 0.0019, train acc 0.837, test acc 0.824\n",
      "epoch 18, loss 0.0019, train acc 0.837, test acc 0.826\n",
      "epoch 19, loss 0.0019, train acc 0.838, test acc 0.825\n",
      "epoch 20, loss 0.0019, train acc 0.838, test acc 0.827\n",
      "epoch 21, loss 0.0019, train acc 0.839, test acc 0.827\n",
      "epoch 22, loss 0.0019, train acc 0.839, test acc 0.827\n",
      "epoch 23, loss 0.0019, train acc 0.840, test acc 0.825\n",
      "epoch 24, loss 0.0019, train acc 0.840, test acc 0.828\n",
      "epoch 25, loss 0.0019, train acc 0.841, test acc 0.828\n",
      "epoch 26, loss 0.0019, train acc 0.841, test acc 0.829\n",
      "epoch 27, loss 0.0019, train acc 0.841, test acc 0.827\n",
      "epoch 28, loss 0.0019, train acc 0.841, test acc 0.829\n",
      "epoch 29, loss 0.0019, train acc 0.842, test acc 0.829\n",
      "epoch 30, loss 0.0019, train acc 0.842, test acc 0.829\n",
      "epoch 31, loss 0.0018, train acc 0.842, test acc 0.830\n",
      "epoch 32, loss 0.0018, train acc 0.842, test acc 0.829\n",
      "epoch 33, loss 0.0018, train acc 0.843, test acc 0.828\n",
      "epoch 34, loss 0.0018, train acc 0.843, test acc 0.829\n",
      "epoch 35, loss 0.0018, train acc 0.843, test acc 0.828\n",
      "epoch 36, loss 0.0018, train acc 0.844, test acc 0.828\n",
      "epoch 37, loss 0.0018, train acc 0.844, test acc 0.830\n",
      "epoch 38, loss 0.0018, train acc 0.844, test acc 0.828\n",
      "epoch 39, loss 0.0018, train acc 0.844, test acc 0.831\n",
      "epoch 40, loss 0.0018, train acc 0.845, test acc 0.830\n",
      "epoch 41, loss 0.0018, train acc 0.845, test acc 0.831\n",
      "epoch 42, loss 0.0018, train acc 0.845, test acc 0.831\n",
      "epoch 43, loss 0.0018, train acc 0.846, test acc 0.831\n",
      "epoch 44, loss 0.0018, train acc 0.846, test acc 0.832\n",
      "epoch 45, loss 0.0018, train acc 0.846, test acc 0.832\n",
      "epoch 46, loss 0.0018, train acc 0.847, test acc 0.831\n",
      "epoch 47, loss 0.0018, train acc 0.847, test acc 0.833\n",
      "epoch 48, loss 0.0018, train acc 0.847, test acc 0.831\n",
      "epoch 49, loss 0.0018, train acc 0.847, test acc 0.830\n",
      "epoch 50, loss 0.0018, train acc 0.847, test acc 0.833\n",
      "epoch 51, loss 0.0018, train acc 0.848, test acc 0.832\n",
      "epoch 52, loss 0.0018, train acc 0.847, test acc 0.832\n",
      "epoch 53, loss 0.0018, train acc 0.848, test acc 0.833\n",
      "epoch 54, loss 0.0018, train acc 0.848, test acc 0.832\n",
      "epoch 55, loss 0.0018, train acc 0.848, test acc 0.832\n",
      "epoch 56, loss 0.0018, train acc 0.848, test acc 0.832\n",
      "epoch 57, loss 0.0018, train acc 0.849, test acc 0.833\n",
      "epoch 58, loss 0.0018, train acc 0.849, test acc 0.832\n",
      "epoch 59, loss 0.0018, train acc 0.848, test acc 0.833\n",
      "epoch 60, loss 0.0018, train acc 0.849, test acc 0.834\n",
      "epoch 61, loss 0.0018, train acc 0.849, test acc 0.834\n",
      "epoch 62, loss 0.0018, train acc 0.849, test acc 0.834\n",
      "epoch 63, loss 0.0018, train acc 0.850, test acc 0.834\n",
      "epoch 64, loss 0.0018, train acc 0.850, test acc 0.834\n",
      "epoch 65, loss 0.0018, train acc 0.849, test acc 0.833\n",
      "epoch 66, loss 0.0017, train acc 0.850, test acc 0.834\n",
      "epoch 67, loss 0.0017, train acc 0.850, test acc 0.834\n",
      "epoch 68, loss 0.0017, train acc 0.850, test acc 0.835\n",
      "epoch 69, loss 0.0017, train acc 0.850, test acc 0.835\n",
      "epoch 70, loss 0.0017, train acc 0.850, test acc 0.834\n",
      "epoch 71, loss 0.0017, train acc 0.851, test acc 0.834\n",
      "epoch 72, loss 0.0017, train acc 0.851, test acc 0.834\n",
      "epoch 73, loss 0.0017, train acc 0.851, test acc 0.835\n",
      "epoch 74, loss 0.0017, train acc 0.851, test acc 0.834\n",
      "epoch 75, loss 0.0017, train acc 0.851, test acc 0.835\n",
      "epoch 76, loss 0.0017, train acc 0.851, test acc 0.835\n",
      "epoch 77, loss 0.0017, train acc 0.852, test acc 0.834\n",
      "epoch 78, loss 0.0017, train acc 0.851, test acc 0.833\n",
      "epoch 79, loss 0.0017, train acc 0.851, test acc 0.836\n",
      "epoch 80, loss 0.0017, train acc 0.851, test acc 0.834\n",
      "epoch 81, loss 0.0017, train acc 0.852, test acc 0.835\n",
      "epoch 82, loss 0.0017, train acc 0.852, test acc 0.835\n",
      "epoch 83, loss 0.0017, train acc 0.852, test acc 0.835\n",
      "epoch 84, loss 0.0017, train acc 0.852, test acc 0.837\n",
      "epoch 85, loss 0.0017, train acc 0.852, test acc 0.835\n",
      "epoch 86, loss 0.0017, train acc 0.852, test acc 0.835\n",
      "epoch 87, loss 0.0017, train acc 0.853, test acc 0.835\n",
      "epoch 88, loss 0.0017, train acc 0.852, test acc 0.835\n",
      "epoch 89, loss 0.0017, train acc 0.852, test acc 0.836\n",
      "epoch 90, loss 0.0017, train acc 0.853, test acc 0.835\n",
      "epoch 91, loss 0.0017, train acc 0.852, test acc 0.835\n",
      "epoch 92, loss 0.0017, train acc 0.853, test acc 0.835\n",
      "epoch 93, loss 0.0017, train acc 0.853, test acc 0.835\n",
      "epoch 94, loss 0.0017, train acc 0.853, test acc 0.836\n",
      "epoch 95, loss 0.0017, train acc 0.853, test acc 0.837\n",
      "epoch 96, loss 0.0017, train acc 0.854, test acc 0.836\n",
      "epoch 97, loss 0.0017, train acc 0.853, test acc 0.836\n",
      "epoch 98, loss 0.0017, train acc 0.854, test acc 0.836\n",
      "epoch 99, loss 0.0017, train acc 0.853, test acc 0.836\n",
      "epoch 100, loss 0.0017, train acc 0.854, test acc 0.836\n"
     ]
    }
   ],
   "source": [
    "def train_ch3(net, train_iter, test_iter, loss, num_epochs, batch_size,\n",
    "              params=None, lr=None, optimizer=None):\n",
    "    for epoch in range(num_epochs):\n",
    "        # 初始化训练损失， 训练精度\n",
    "        train_l_sum, train_acc_sum, n = 0.0, 0.0, 0\n",
    "\n",
    "\n",
    "        # 遍历训练迭代器中的样本与标签, 循环次数 = 样本总数 / batch_size\n",
    "        for X, y in train_iter:\n",
    "            # y_hat 预测值\n",
    "            y_hat = net(X)\n",
    "            # print('y_hat.shape', y_hat.shape) torch.Size([256, 10])\n",
    "\n",
    "\n",
    "\n",
    "            # 计算损失\n",
    "            l = loss(y_hat, y).sum()\n",
    "            # print(l)\n",
    "            # print(l.item())\n",
    "            \n",
    "            # 梯度清零\n",
    "            if optimizer is not None:\n",
    "                optimizer.zero_grad()\n",
    "            elif params is not None and params[0].grad is not None:\n",
    "                for param in params:\n",
    "                    param.grad.data.zero_()\n",
    "\n",
    "            # 反向传播更新权重\n",
    "            l.backward()\n",
    "\n",
    "            if optimizer is None:\n",
    "                sgd(params, lr, batch_size)\n",
    "            else:\n",
    "                optimizer.step()  # 启动优化算法\n",
    "            \n",
    "            # 训练损失总和标量 eg. l: tensor(0.5213, grad_fn=<SumBackward0>) l.item(): 0.5213115215301514\n",
    "            train_l_sum += l.item() \n",
    "\n",
    "            train_acc_sum += (y_hat.argmax(dim=1) == y).sum().item()\n",
    "            n += y.shape[0]\n",
    "        test_acc = evaluate_accuracy(test_iter, net)\n",
    "        print('epoch %d, loss %.4f, train acc %.3f, test acc %.3f'\n",
    "              % (epoch + 1, train_l_sum / n, train_acc_sum / n, test_acc))\n",
    "\n",
    "def evaluate_accuracy(data_iter, net, device=None):\n",
    "    if device is None and isinstance(net, torch.nn.Module):\n",
    "        # 如果没指定 device 就使用 net 的 device\n",
    "        device = list(net.parameters())[0].device \n",
    "    acc_sum, n = 0.0, 0\n",
    "    with torch.no_grad():\n",
    "        for X, y in data_iter:\n",
    "            if isinstance(net, torch.nn.Module):\n",
    "                net.eval() # 评估模式, 这会关闭 dropout\n",
    "                acc_sum += (net(X.to(device)).argmax(dim=1) == y.to(device)).float().sum().cpu().item()\n",
    "                net.train() # 改回训练模式\n",
    "            else: # 自定义的模型, 3.13节之后不会用到, 不考虑GPU\n",
    "                if('is_training' in net.__code__.co_varnames): # 如果有is_training这个参数\n",
    "                    # 将is_training设置成False\n",
    "                    acc_sum += (net(X, is_training=False).argmax(dim=1) == y).float().sum().item() \n",
    "                else:\n",
    "                    acc_sum += (net(X).argmax(dim=1) == y).float().sum().item() \n",
    "            n += y.shape[0]\n",
    "    return acc_sum / n\n",
    "\n",
    "\n",
    "\n",
    "num_epochs = 100\n",
    "\n",
    "train_ch3(net, train_iter, test_iter, loss, num_epochs, batch_size, None, None, optimizer)"
   ]
  },
  {
   "cell_type": "code",
   "execution_count": null,
   "metadata": {},
   "outputs": [],
   "source": []
  }
 ],
 "metadata": {
  "kernelspec": {
   "name": "python3613jvsc74a57bd06a7cafeaeb3fd68df71f631e022add281d537fd7827e106ecab671299a698970",
   "display_name": "Python 3.6.13 64-bit ('pytorch': conda)"
  },
  "language_info": {
   "codemirror_mode": {
    "name": "ipython",
    "version": 3
   },
   "file_extension": ".py",
   "mimetype": "text/x-python",
   "name": "python",
   "nbconvert_exporter": "python",
   "pygments_lexer": "ipython3",
   "version": "3.6.13"
  }
 },
 "nbformat": 4,
 "nbformat_minor": 2
}